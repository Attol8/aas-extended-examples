{
 "cells": [
  {
   "cell_type": "markdown",
   "metadata": {},
   "source": [
    "# Flipping coins with Professor Mittens"
   ]
  },
  {
   "cell_type": "markdown",
   "metadata": {},
   "source": [
    "## Outline and housekeeping\n",
    "\n",
    "The material in this notebook covers four topics: binomial distributions, the central limit theorem, outliers in data and invalid model assumptions. _You will have approximately 15 minutes to work through each part, after which we will go through the answers together._ Exercises marked as \"extension\" may be more challenging, so you can skip them on a first reading if you feel they will take too much time.\n",
    "\n",
    "This notebook is available on github [here](https://github.com/aezarebski/aas-extended-examples). If you find errors or would like to suggest an improvement, feel free to create an issue."
   ]
  },
  {
   "cell_type": "markdown",
   "metadata": {},
   "source": [
    "## Introduction\n",
    "\n",
    "In this lab we will look at the binomial distribution, central limit theorem, and analyse two data sets collected by [Professor Mittens](https://en.wikipedia.org/wiki/Mittens_(cat)) helping him interrogate the bais in the results of coin flips. Some of the questions are open-ended by design. Partial solutions will be distributed at the end of the session. The imports below are used in the provided solutions, consider these suggestions, not constraints. The answers use `altair` but you can use any plotting library you are comfortable with."
   ]
  },
  {
   "cell_type": "code",
   "execution_count": 1,
   "metadata": {},
   "outputs": [],
   "source": [
    "import pandas as pd\n",
    "from scipy import stats\n",
    "from typing import List, Any, Tuple\n",
    "import altair as alt\n",
    "from functools import reduce\n",
    "from itertools import repeat\n",
    "import math as math"
   ]
  },
  {
   "cell_type": "markdown",
   "metadata": {},
   "source": [
    "## Parameter estimation of the binomial distribution\n",
    "\n",
    "Bernoulli and binomial random variables are the typical way to represent the outcome of coin flips. Below we consider estimates of the probability of heads based on a known number of successes in a given number of trials and also a confidence interval (CI) for this based on the Wald method will be given.\n",
    "\n",
    "Let $X$ be a binomial random variable (RV) which results from the number of heads when a coin is flipped $n$ times and the probability of coming up heads is $p$. For the time being we will assume that $n$ is know. The expected value of $X$ is $np$. So a simple way to estimate $p$ is to divide the number of heads, $X$, by the number of flips, $n$. This gives the estimate \n",
    "\n",
    "$$\n",
    "\\hat{p} = X / n.\n",
    "$$\n",
    "\n",
    "It turns out that this is a very sensible thing to do. The resulting estimate is called the maximum likelihood estimate (MLE) of $p$. It is also the result that one obtains via [the method of moments](https://en.wikipedia.org/wiki/Method_of_moments_(statistics)).\n",
    "\n",
    "Given an estimator though, we want to know how confident we are in the estimate it produces. Here we will use the Wald method to get the $95\\%$ CI. It is a very simple method but is acceptable when we have a fair bit of data. The estimated standard error of $\\hat{p}$ is $\\sqrt{\\hat{p}(1-\\hat{p})/n}$, so the Wald CI is given by\n",
    "\n",
    "$$\n",
    "\\hat{p} \\pm z \\sqrt{\\frac{\\hat{p}(1-\\hat{p})}{n}}\n",
    "$$\n",
    "\n",
    "where $z$ is the appropriate quantile of the standard normal distribution. In the case of a $95\\%$ distribution this is just $1.96$.\n",
    "\n",
    "This is stated on the [wikipedia](https://en.wikipedia.org/wiki/Binomial_distribution#Estimation_of_parameters) but there is also a reasonably clear description in [All of Statistics](https://link.springer.com/book/10.1007/978-0-387-21736-9) which you can get via SOLO. You can also find reasonable treatments of Wald CIs in both of those resources."
   ]
  },
  {
   "cell_type": "markdown",
   "metadata": {},
   "source": [
    "### Exercise 1 part I\n",
    "\n",
    "Professor Mittens is not very familiar with the binomial distribution and wants you to justify the estimator used above. Convince yourself that the estimate given above, $X/n$, is a sensible choice. Prove that it is either the MLE or the method of moments estimator for $p$. State the limitations on the estimator we are using for the CI."
   ]
  },
  {
   "cell_type": "markdown",
   "metadata": {},
   "source": [
    "### Partial answer\n",
    "\n",
    "- Observe that the expected number of heads is $pn$ and solve for $p$.\n",
    "- Consider each flip as a Bernoulli trial and optimise the resulting log-likelihood function\n",
    "- The Wald estimate assumes you have enough data to justify an asymptotic solution so is unlikely to be accurate for small datasets."
   ]
  },
  {
   "cell_type": "markdown",
   "metadata": {},
   "source": [
    "### Exercise 1 part II\n",
    "\n",
    "Implement a function called `wald_estimate_and_ci` which takes two arguments: `num_trials` which is $n$ in the description above, and `num_success` which is $X$ above. The function should return `(p_hat,(wald_lower,wald_upper))` where `p_hat` is $\\hat{p}$ and `wald_x` are the limits on the $95\\%$ CI using the Wald method."
   ]
  },
  {
   "cell_type": "code",
   "execution_count": 2,
   "metadata": {},
   "outputs": [
    {
     "data": {
      "text/plain": [
       "(0.5, (0.19009678930349883, 0.8099032106965012))"
      ]
     },
     "execution_count": 2,
     "metadata": {},
     "output_type": "execute_result"
    }
   ],
   "source": [
    "CI = Tuple[float,float]\n",
    "EstimateAndCI = Tuple[float,CI]\n",
    "\n",
    "def wald_estimate_and_ci(num_trials: int, num_success: int) -> EstimateAndCI:\n",
    "    p_hat = num_success / num_trials\n",
    "    z = 1.96\n",
    "    delta = z * math.sqrt(p_hat * (1 - p_hat) / num_trials)\n",
    "    return (p_hat,(p_hat - delta, p_hat + delta))\n",
    "p_hat, (wald_lower, wald_upper) = wald_estimate_and_ci(10, 5)\n",
    "p_hat, (wald_lower, wald_upper) "
   ]
  },
  {
   "cell_type": "markdown",
   "metadata": {},
   "source": [
    "### Exercise 2 part I\n",
    "\n",
    "Look up how to simulate a random variable from a binomial distribution (it tells you [here](https://docs.scipy.org/doc/scipy/reference/generated/scipy.stats.binom.html#scipy.stats.binom) if you want to use `scipy`). Then simulate a binomial random variable with $n=100$ and $p=0.6$. Then use the value and the `wald_estimate_and_ci` function to see how well you can estimate $p$. Write a couple of sentences to explain this.\n",
    "\n",
    "### Exercise 2 part II\n",
    "\n",
    "Repeat the process about 100000 times and see what proportion of the CIs capture the true value of $p$. Is it what you expect? Write a couple of sentences to explain what you found."
   ]
  },
  {
   "cell_type": "code",
   "execution_count": 3,
   "metadata": {},
   "outputs": [
    {
     "data": {
      "text/plain": [
       "0.94755"
      ]
     },
     "execution_count": 3,
     "metadata": {},
     "output_type": "execute_result"
    }
   ],
   "source": [
    "rand_xs = stats.binom.rvs(n = 100, p = 0.6, size = 100000)\n",
    "\n",
    "def ci_contains_value(ci: CI, p: float) -> bool:\n",
    "    lower,upper = ci\n",
    "    return lower < p and p < upper\n",
    "\n",
    "p_in_ci_bools = [ci_contains_value(wald_estimate_and_ci(100, x)[1], 0.6) for x in rand_xs]\n",
    "\n",
    "reduce(lambda a, b: a + 1 if b else a, p_in_ci_bools, 0) / 100000"
   ]
  },
  {
   "cell_type": "markdown",
   "metadata": {},
   "source": [
    "### Exercise 2 part III\n",
    "\n",
    "Are credible intervals and confidence intervals the same thing?"
   ]
  },
  {
   "cell_type": "markdown",
   "metadata": {},
   "source": [
    "### Partial answer\n",
    "\n",
    "No confidence intervals are talk about repeated experiments in frequentist statistics while credible intervals talk about posterior probability in Bayesian statistics."
   ]
  },
  {
   "cell_type": "markdown",
   "metadata": {},
   "source": [
    "## Central limit theorem\n",
    "\n",
    "The central limit theorem tells us about the limiting distribution of the sample mean for distribution for an IID sample with a finite variance. It underpins many results in statistics and is important for reasoning about stochastic processes.\n",
    "\n",
    "### Exercise 3 part I (Extension)\n",
    "\n",
    "Professor Mittens *really* likes to sound fancy and use the name of important theorems. Write down a statement of the law of large numbers. Write down a statement of the central limit theorem. Make sure you understand what each of them tells you."
   ]
  },
  {
   "cell_type": "markdown",
   "metadata": {},
   "source": [
    "### Partial answer\n",
    "\n",
    "- $\\hat{X}$ converges to $\\mu$.\n",
    "- $\\sqrt{n}(\\hat{X} - \\mu) / \\sigma$ converges in distribution to the standard normal distribution as the sample size increases.\n",
    "- The LLN tells you what the limiting value is, the CLT tells you about how about the fluctuations."
   ]
  },
  {
   "cell_type": "markdown",
   "metadata": {},
   "source": [
    "### Exercise 3 part II\n",
    "\n",
    "To see that the distribution of the sample mean converges to a normal distribution we will do a simulation study and compare the results with a Q-Q plot to see if it looks normally distributed. This will also demonstrate how to construct a Q-Q plot from first principles, not that you really want to do that. Carry out the following steps:\n",
    "\n",
    "1. Write down the distribution of the sample mean given an IID sample of exponential random variables with rate $1/5$.\n",
    "2. Generate 500 sample means each based on a sample of 100 exponential random variables\n",
    "3. Make a visualisation of the distribution of the data (e.g., a KDE or histogram) and overlay the CLT approximation.\n",
    "4. Make a Q-Q plot to see if the sample means do appear to follow a normal distribution"
   ]
  },
  {
   "cell_type": "markdown",
   "metadata": {},
   "source": [
    "### Partial answer\n",
    "\n",
    "- The mean of the exponential distribution is 5. \n",
    "- The standard deviation of the exponential distribution is 5\n",
    "- The CLT tells us the limiting distribution for the sample mean is $N\\left(5,\\frac{5^2}{n}\\right)$"
   ]
  },
  {
   "cell_type": "code",
   "execution_count": 5,
   "metadata": {},
   "outputs": [],
   "source": [
    "sample_size = 200\n",
    "num_replicates = 500\n",
    "\n",
    "sample_means = [stats.expon.rvs(scale = 5, size = sample_size).mean() for _ in range(num_replicates)]\n",
    "\n",
    "plot_df = pd.DataFrame({\"sample_mean\": sample_means})\n",
    "\n",
    "mesh_size = 200\n",
    "x_vals = [0.02 * ix + 3 for ix in range(0,mesh_size)]\n",
    "\n",
    "clt_scale = 5 / math.sqrt(sample_size)\n",
    "\n",
    "clt_pdf = [stats.norm.pdf(x, loc = 5, scale = clt_scale) for x in x_vals]\n",
    "clt_df = pd.DataFrame({\"x\": x_vals, \"pdf\": clt_pdf})"
   ]
  },
  {
   "cell_type": "code",
   "execution_count": 16,
   "metadata": {},
   "outputs": [
    {
     "data": {
      "text/html": [
       "\n",
       "<div id=\"altair-viz-fac1ca9a1253460f862a05207e91e4f5\"></div>\n",
       "<script type=\"text/javascript\">\n",
       "  (function(spec, embedOpt){\n",
       "    let outputDiv = document.currentScript.previousElementSibling;\n",
       "    if (outputDiv.id !== \"altair-viz-fac1ca9a1253460f862a05207e91e4f5\") {\n",
       "      outputDiv = document.getElementById(\"altair-viz-fac1ca9a1253460f862a05207e91e4f5\");\n",
       "    }\n",
       "    const paths = {\n",
       "      \"vega\": \"https://cdn.jsdelivr.net/npm//vega@5?noext\",\n",
       "      \"vega-lib\": \"https://cdn.jsdelivr.net/npm//vega-lib?noext\",\n",
       "      \"vega-lite\": \"https://cdn.jsdelivr.net/npm//vega-lite@4.8.1?noext\",\n",
       "      \"vega-embed\": \"https://cdn.jsdelivr.net/npm//vega-embed@6?noext\",\n",
       "    };\n",
       "\n",
       "    function loadScript(lib) {\n",
       "      return new Promise(function(resolve, reject) {\n",
       "        var s = document.createElement('script');\n",
       "        s.src = paths[lib];\n",
       "        s.async = true;\n",
       "        s.onload = () => resolve(paths[lib]);\n",
       "        s.onerror = () => reject(`Error loading script: ${paths[lib]}`);\n",
       "        document.getElementsByTagName(\"head\")[0].appendChild(s);\n",
       "      });\n",
       "    }\n",
       "\n",
       "    function showError(err) {\n",
       "      outputDiv.innerHTML = `<div class=\"error\" style=\"color:red;\">${err}</div>`;\n",
       "      throw err;\n",
       "    }\n",
       "\n",
       "    function displayChart(vegaEmbed) {\n",
       "      vegaEmbed(outputDiv, spec, embedOpt)\n",
       "        .catch(err => showError(`Javascript Error: ${err.message}<br>This usually means there's a typo in your chart specification. See the javascript console for the full traceback.`));\n",
       "    }\n",
       "\n",
       "    if(typeof define === \"function\" && define.amd) {\n",
       "      requirejs.config({paths});\n",
       "      require([\"vega-embed\"], displayChart, err => showError(`Error loading script: ${err.message}`));\n",
       "    } else if (typeof vegaEmbed === \"function\") {\n",
       "      displayChart(vegaEmbed);\n",
       "    } else {\n",
       "      loadScript(\"vega\")\n",
       "        .then(() => loadScript(\"vega-lite\"))\n",
       "        .then(() => loadScript(\"vega-embed\"))\n",
       "        .catch(showError)\n",
       "        .then(() => displayChart(vegaEmbed));\n",
       "    }\n",
       "  })({\"config\": {\"view\": {\"continuousWidth\": 400, \"continuousHeight\": 300}}, \"layer\": [{\"data\": {\"name\": \"data-41d468aa85cd2d24c4c6640935d0c01f\"}, \"mark\": \"area\", \"encoding\": {\"x\": {\"type\": \"quantitative\", \"field\": \"sample_mean\", \"title\": \"Sample mean\"}, \"y\": {\"type\": \"quantitative\", \"field\": \"density\"}}, \"transform\": [{\"density\": \"sample_mean\", \"extent\": [3, 7], \"as\": [\"sample_mean\", \"density\"]}]}, {\"data\": {\"name\": \"data-7efce130a2d22c3176072cc84f76b386\"}, \"mark\": {\"type\": \"line\", \"color\": \"red\"}, \"encoding\": {\"x\": {\"type\": \"quantitative\", \"field\": \"x\"}, \"y\": {\"type\": \"quantitative\", \"field\": \"pdf\"}}}], \"$schema\": \"https://vega.github.io/schema/vega-lite/v4.8.1.json\", \"datasets\": {\"data-41d468aa85cd2d24c4c6640935d0c01f\": [{\"sample_mean\": 5.080613007652312}, {\"sample_mean\": 5.6889200055612354}, {\"sample_mean\": 4.633914126599779}, {\"sample_mean\": 4.893587793707743}, {\"sample_mean\": 5.24353997548074}, {\"sample_mean\": 5.075207221930734}, {\"sample_mean\": 5.126049700542368}, {\"sample_mean\": 4.696851151773831}, {\"sample_mean\": 4.503276421713926}, {\"sample_mean\": 5.025727143970718}, {\"sample_mean\": 5.373465818434503}, {\"sample_mean\": 4.945735028317738}, {\"sample_mean\": 4.150842275027186}, {\"sample_mean\": 4.8498110504704774}, {\"sample_mean\": 4.83282713624237}, {\"sample_mean\": 5.422403336272677}, {\"sample_mean\": 5.202392756229008}, {\"sample_mean\": 4.895073596726722}, {\"sample_mean\": 5.123617072224115}, {\"sample_mean\": 5.01510199912785}, {\"sample_mean\": 5.342287143409157}, {\"sample_mean\": 4.986564235260053}, {\"sample_mean\": 4.566961425198928}, {\"sample_mean\": 5.071693316629167}, {\"sample_mean\": 4.667020969073172}, {\"sample_mean\": 4.9162861043837}, {\"sample_mean\": 4.639176264709443}, {\"sample_mean\": 5.437718634712171}, {\"sample_mean\": 4.740399060717666}, {\"sample_mean\": 5.143791395130067}, {\"sample_mean\": 4.918034083018881}, {\"sample_mean\": 5.1495968233148}, {\"sample_mean\": 4.645025195368912}, {\"sample_mean\": 5.350337643204654}, {\"sample_mean\": 5.308245245816909}, {\"sample_mean\": 5.592291611892742}, {\"sample_mean\": 4.557920681706109}, {\"sample_mean\": 4.627959959146491}, {\"sample_mean\": 4.674425416411805}, {\"sample_mean\": 5.365337456669098}, {\"sample_mean\": 5.284105674806537}, {\"sample_mean\": 4.981192971041863}, {\"sample_mean\": 4.461119733425721}, {\"sample_mean\": 5.077598346581218}, {\"sample_mean\": 5.112112162668916}, {\"sample_mean\": 4.889388775540902}, {\"sample_mean\": 5.349294732985418}, {\"sample_mean\": 5.297889158616665}, {\"sample_mean\": 5.180214045743352}, {\"sample_mean\": 5.080110524441704}, {\"sample_mean\": 5.50056874746364}, {\"sample_mean\": 4.729055133487313}, {\"sample_mean\": 5.4295464938711016}, {\"sample_mean\": 5.472677748752437}, {\"sample_mean\": 4.8243747937534245}, {\"sample_mean\": 5.414608234851143}, {\"sample_mean\": 4.514314475946283}, {\"sample_mean\": 5.069989215879576}, {\"sample_mean\": 5.184180034919179}, {\"sample_mean\": 5.161880565538172}, {\"sample_mean\": 4.8330043701311585}, {\"sample_mean\": 5.2542216555832075}, {\"sample_mean\": 5.157239110583601}, {\"sample_mean\": 5.55818287778071}, {\"sample_mean\": 5.167466744093503}, {\"sample_mean\": 4.669572297872261}, {\"sample_mean\": 5.3153132131120735}, {\"sample_mean\": 4.358460382472159}, {\"sample_mean\": 5.681698143178465}, {\"sample_mean\": 4.998331017585101}, {\"sample_mean\": 5.699491910400039}, {\"sample_mean\": 5.52003373812444}, {\"sample_mean\": 4.786755823307183}, {\"sample_mean\": 4.446503948391726}, {\"sample_mean\": 4.5702073578793145}, {\"sample_mean\": 5.201294304469815}, {\"sample_mean\": 4.543175522015383}, {\"sample_mean\": 4.210691942606794}, {\"sample_mean\": 5.659574577974829}, {\"sample_mean\": 5.309424054962983}, {\"sample_mean\": 4.277476645337844}, {\"sample_mean\": 4.920649796633757}, {\"sample_mean\": 5.330988908942784}, {\"sample_mean\": 5.009475851148095}, {\"sample_mean\": 5.388788026677093}, {\"sample_mean\": 5.232347248109459}, {\"sample_mean\": 4.869712407362199}, {\"sample_mean\": 5.288202909301958}, {\"sample_mean\": 4.7283233879173245}, {\"sample_mean\": 4.636739440980141}, {\"sample_mean\": 5.113082809020373}, {\"sample_mean\": 4.954388005919783}, {\"sample_mean\": 4.754014098927496}, {\"sample_mean\": 4.716932297113917}, {\"sample_mean\": 4.808820916441164}, {\"sample_mean\": 4.977780019847906}, {\"sample_mean\": 5.7180866892643785}, {\"sample_mean\": 5.185697211982565}, {\"sample_mean\": 4.816005362856855}, {\"sample_mean\": 5.194404666935139}, {\"sample_mean\": 5.145537084915495}, {\"sample_mean\": 4.955812146547779}, {\"sample_mean\": 5.554234093072243}, {\"sample_mean\": 5.199554601839211}, {\"sample_mean\": 5.141251792046301}, {\"sample_mean\": 5.122394364195542}, {\"sample_mean\": 5.097302585995616}, {\"sample_mean\": 4.738413754632147}, {\"sample_mean\": 4.329007541458099}, {\"sample_mean\": 4.851533411033849}, {\"sample_mean\": 4.61412512558037}, {\"sample_mean\": 4.623948300258906}, {\"sample_mean\": 5.461007064371255}, {\"sample_mean\": 5.0461573511904625}, {\"sample_mean\": 4.497366385120858}, {\"sample_mean\": 4.728504709914493}, {\"sample_mean\": 4.83619590053315}, {\"sample_mean\": 5.39345242272351}, {\"sample_mean\": 4.0200920994499425}, {\"sample_mean\": 5.359145544659721}, {\"sample_mean\": 4.764474822504932}, {\"sample_mean\": 4.896126668031391}, {\"sample_mean\": 5.251799898071518}, {\"sample_mean\": 4.925579647693523}, {\"sample_mean\": 4.839793691972376}, {\"sample_mean\": 5.586390559739077}, {\"sample_mean\": 5.191946492989985}, {\"sample_mean\": 4.926956096716126}, {\"sample_mean\": 4.707376567216431}, {\"sample_mean\": 5.423581431197956}, {\"sample_mean\": 4.498373950589866}, {\"sample_mean\": 4.924655611762253}, {\"sample_mean\": 5.370865786726224}, {\"sample_mean\": 5.3888307177550745}, {\"sample_mean\": 5.137960181709334}, {\"sample_mean\": 4.911987246259366}, {\"sample_mean\": 5.270507572492624}, {\"sample_mean\": 4.978569045081299}, {\"sample_mean\": 4.800098189986095}, {\"sample_mean\": 4.666438466211613}, {\"sample_mean\": 5.607566314255354}, {\"sample_mean\": 4.818406807124585}, {\"sample_mean\": 4.704195128968984}, {\"sample_mean\": 4.827393183634172}, {\"sample_mean\": 4.780079829017978}, {\"sample_mean\": 5.3014311357014074}, {\"sample_mean\": 4.88930769983003}, {\"sample_mean\": 5.218893211500952}, {\"sample_mean\": 4.8035644738596135}, {\"sample_mean\": 4.689465327715195}, {\"sample_mean\": 5.1391638406460505}, {\"sample_mean\": 5.204441453885488}, {\"sample_mean\": 4.943438752987748}, {\"sample_mean\": 4.4100502694328725}, {\"sample_mean\": 5.557340286584767}, {\"sample_mean\": 4.745050472826873}, {\"sample_mean\": 5.584928147933408}, {\"sample_mean\": 4.669572064191349}, {\"sample_mean\": 5.1385823924307}, {\"sample_mean\": 5.008029918497821}, {\"sample_mean\": 5.061721869540657}, {\"sample_mean\": 4.7951855502776946}, {\"sample_mean\": 5.458031805863851}, {\"sample_mean\": 4.564951250745315}, {\"sample_mean\": 5.3250569882357475}, {\"sample_mean\": 5.973237932095792}, {\"sample_mean\": 5.6045072980119786}, {\"sample_mean\": 4.421718502124535}, {\"sample_mean\": 4.925448645054173}, {\"sample_mean\": 5.156574412520838}, {\"sample_mean\": 5.28692023032497}, {\"sample_mean\": 5.048753404131134}, {\"sample_mean\": 4.875152883445338}, {\"sample_mean\": 5.2094323729319365}, {\"sample_mean\": 4.341529618150668}, {\"sample_mean\": 4.762649073736377}, {\"sample_mean\": 4.332620537147563}, {\"sample_mean\": 5.435731980328804}, {\"sample_mean\": 5.216385909240334}, {\"sample_mean\": 5.025395269935642}, {\"sample_mean\": 5.261503248640842}, {\"sample_mean\": 5.190958492078185}, {\"sample_mean\": 4.603822002898592}, {\"sample_mean\": 4.682374230773721}, {\"sample_mean\": 4.558671264281969}, {\"sample_mean\": 5.0141515511390695}, {\"sample_mean\": 4.775126886913139}, {\"sample_mean\": 5.21435658462045}, {\"sample_mean\": 4.907184729613542}, {\"sample_mean\": 5.186409473381709}, {\"sample_mean\": 4.74916922667972}, {\"sample_mean\": 5.030689246187709}, {\"sample_mean\": 5.206192607191727}, {\"sample_mean\": 4.929609760277153}, {\"sample_mean\": 4.486934845637769}, {\"sample_mean\": 5.573278733506875}, {\"sample_mean\": 5.190458876305595}, {\"sample_mean\": 5.378197018797348}, {\"sample_mean\": 4.65696922074187}, {\"sample_mean\": 5.677258809532813}, {\"sample_mean\": 4.969036923361035}, {\"sample_mean\": 5.1349927300614535}, {\"sample_mean\": 5.975464268396107}, {\"sample_mean\": 4.870912653519398}, {\"sample_mean\": 4.663232348207423}, {\"sample_mean\": 5.140141567467171}, {\"sample_mean\": 5.542360379396696}, {\"sample_mean\": 4.7910852379355005}, {\"sample_mean\": 5.26021023679212}, {\"sample_mean\": 4.996173424192717}, {\"sample_mean\": 4.876911191383143}, {\"sample_mean\": 4.696387078871827}, {\"sample_mean\": 4.94532474604529}, {\"sample_mean\": 4.932669771742289}, {\"sample_mean\": 4.953079943697592}, {\"sample_mean\": 4.731722458813142}, {\"sample_mean\": 4.4738786816808895}, {\"sample_mean\": 5.2972343081840725}, {\"sample_mean\": 4.878070022286936}, {\"sample_mean\": 5.136093293689027}, {\"sample_mean\": 4.384368891757382}, {\"sample_mean\": 5.146145713923335}, {\"sample_mean\": 5.141624509752953}, {\"sample_mean\": 4.715050871617997}, {\"sample_mean\": 4.7633202970208846}, {\"sample_mean\": 5.297787504827131}, {\"sample_mean\": 5.450435864335084}, {\"sample_mean\": 4.670127845139648}, {\"sample_mean\": 4.950434862226377}, {\"sample_mean\": 4.993542436719727}, {\"sample_mean\": 5.159174913318671}, {\"sample_mean\": 4.540642407302102}, {\"sample_mean\": 5.363694434630017}, {\"sample_mean\": 5.413000499057977}, {\"sample_mean\": 5.311544115753083}, {\"sample_mean\": 5.066061948500471}, {\"sample_mean\": 4.158667367687139}, {\"sample_mean\": 5.40592091322407}, {\"sample_mean\": 5.258513274719896}, {\"sample_mean\": 4.9783126642570235}, {\"sample_mean\": 4.95020878802145}, {\"sample_mean\": 5.0082404994446375}, {\"sample_mean\": 5.052751462858499}, {\"sample_mean\": 4.375547058111549}, {\"sample_mean\": 4.908619232421321}, {\"sample_mean\": 5.394163962921857}, {\"sample_mean\": 5.418304553250161}, {\"sample_mean\": 4.922082221643102}, {\"sample_mean\": 4.988751920557414}, {\"sample_mean\": 5.356676021335874}, {\"sample_mean\": 4.576004878766642}, {\"sample_mean\": 5.192772021084531}, {\"sample_mean\": 5.050726835417361}, {\"sample_mean\": 5.31811185896937}, {\"sample_mean\": 4.672631635558227}, {\"sample_mean\": 4.994359129053596}, {\"sample_mean\": 5.108374306723803}, {\"sample_mean\": 4.884416532097395}, {\"sample_mean\": 4.987149742995288}, {\"sample_mean\": 5.246490227435527}, {\"sample_mean\": 5.238944258272686}, {\"sample_mean\": 4.801694098375452}, {\"sample_mean\": 4.9814180662691205}, {\"sample_mean\": 4.814013665196734}, {\"sample_mean\": 4.84346338170398}, {\"sample_mean\": 5.863759011652946}, {\"sample_mean\": 5.109338269125982}, {\"sample_mean\": 5.063372285057547}, {\"sample_mean\": 5.500162650045111}, {\"sample_mean\": 4.782844686803111}, {\"sample_mean\": 4.866008014353505}, {\"sample_mean\": 4.727020449669863}, {\"sample_mean\": 5.4154310446561995}, {\"sample_mean\": 5.471300966529074}, {\"sample_mean\": 4.988692728175607}, {\"sample_mean\": 5.254134147518289}, {\"sample_mean\": 4.694856636704436}, {\"sample_mean\": 4.547469321044574}, {\"sample_mean\": 4.689385077891021}, {\"sample_mean\": 5.387213878784366}, {\"sample_mean\": 4.940114864377922}, {\"sample_mean\": 4.727026843522433}, {\"sample_mean\": 4.906040548115986}, {\"sample_mean\": 4.609242307867716}, {\"sample_mean\": 4.378417726839363}, {\"sample_mean\": 5.429241077189087}, {\"sample_mean\": 5.44526178868194}, {\"sample_mean\": 5.583157268420105}, {\"sample_mean\": 5.205427393948947}, {\"sample_mean\": 4.541359832287027}, {\"sample_mean\": 4.496355597038404}, {\"sample_mean\": 5.506637273395787}, {\"sample_mean\": 5.331719503673121}, {\"sample_mean\": 5.010781266539233}, {\"sample_mean\": 5.141564076997543}, {\"sample_mean\": 4.979599209775117}, {\"sample_mean\": 5.060720060202404}, {\"sample_mean\": 4.675446765556725}, {\"sample_mean\": 4.654178449660662}, {\"sample_mean\": 4.996869326837663}, {\"sample_mean\": 5.341693232298351}, {\"sample_mean\": 4.892335368259446}, {\"sample_mean\": 4.809457322167978}, {\"sample_mean\": 4.0708846911752055}, {\"sample_mean\": 4.641481938827263}, {\"sample_mean\": 5.089383530812193}, {\"sample_mean\": 4.865097991250325}, {\"sample_mean\": 5.074025955373013}, {\"sample_mean\": 3.884887212198005}, {\"sample_mean\": 5.311454180348068}, {\"sample_mean\": 4.313379339139454}, {\"sample_mean\": 5.3900816420241675}, {\"sample_mean\": 4.7004483348681845}, {\"sample_mean\": 5.071160107489187}, {\"sample_mean\": 5.71427120685548}, {\"sample_mean\": 4.8844866517913}, {\"sample_mean\": 4.764406437633376}, {\"sample_mean\": 5.086781866391638}, {\"sample_mean\": 5.383248517535066}, {\"sample_mean\": 4.53115821119035}, {\"sample_mean\": 5.147516487388969}, {\"sample_mean\": 5.036441494125555}, {\"sample_mean\": 5.338597300181461}, {\"sample_mean\": 4.7689914320142694}, {\"sample_mean\": 5.4731648206194246}, {\"sample_mean\": 4.7246524223374395}, {\"sample_mean\": 5.6854980707232725}, {\"sample_mean\": 5.135465688037154}, {\"sample_mean\": 5.004815262188021}, {\"sample_mean\": 5.181258666500657}, {\"sample_mean\": 4.557409151933794}, {\"sample_mean\": 5.23607488746723}, {\"sample_mean\": 4.758387277361561}, {\"sample_mean\": 5.373163700793657}, {\"sample_mean\": 4.773503992305229}, {\"sample_mean\": 4.8528338546877015}, {\"sample_mean\": 5.699931052570066}, {\"sample_mean\": 4.820261496187376}, {\"sample_mean\": 5.178267728334399}, {\"sample_mean\": 5.295358672153273}, {\"sample_mean\": 5.350665283584897}, {\"sample_mean\": 4.863984449305221}, {\"sample_mean\": 5.0975275275558145}, {\"sample_mean\": 5.494002012649251}, {\"sample_mean\": 5.240539806733117}, {\"sample_mean\": 4.546461488049706}, {\"sample_mean\": 4.511337521235406}, {\"sample_mean\": 5.1787027409991655}, {\"sample_mean\": 4.895165701174043}, {\"sample_mean\": 5.030675755901045}, {\"sample_mean\": 5.283780473829904}, {\"sample_mean\": 5.089440855740574}, {\"sample_mean\": 5.02779767570422}, {\"sample_mean\": 4.728418266992577}, {\"sample_mean\": 4.996964509059833}, {\"sample_mean\": 5.1071031570213306}, {\"sample_mean\": 5.312079681118676}, {\"sample_mean\": 4.536710324388152}, {\"sample_mean\": 4.494077097171669}, {\"sample_mean\": 4.7280536759162395}, {\"sample_mean\": 4.851596326827206}, {\"sample_mean\": 4.927819928413035}, {\"sample_mean\": 5.528491071134292}, {\"sample_mean\": 4.951953929814431}, {\"sample_mean\": 5.415619741006558}, {\"sample_mean\": 5.3233442238865045}, {\"sample_mean\": 4.534563335301441}, {\"sample_mean\": 4.585425398256447}, {\"sample_mean\": 4.991168185829032}, {\"sample_mean\": 5.3188056721024655}, {\"sample_mean\": 5.035098551795287}, {\"sample_mean\": 5.227274217116546}, {\"sample_mean\": 5.149330705638874}, {\"sample_mean\": 5.023815239230532}, {\"sample_mean\": 4.614982981033817}, {\"sample_mean\": 4.703942753015151}, {\"sample_mean\": 4.788330398798809}, {\"sample_mean\": 5.049112619913388}, {\"sample_mean\": 4.55582513930913}, {\"sample_mean\": 4.731954132114502}, {\"sample_mean\": 5.592780093627903}, {\"sample_mean\": 5.5659207446053465}, {\"sample_mean\": 4.369405725629914}, {\"sample_mean\": 4.733817009041511}, {\"sample_mean\": 5.169109593781596}, {\"sample_mean\": 5.567213496306815}, {\"sample_mean\": 5.540308753786965}, {\"sample_mean\": 4.69224669616465}, {\"sample_mean\": 5.0907479930429105}, {\"sample_mean\": 5.694501375478154}, {\"sample_mean\": 5.09337823831439}, {\"sample_mean\": 5.208666290304003}, {\"sample_mean\": 4.709662736364135}, {\"sample_mean\": 5.063282356225921}, {\"sample_mean\": 4.795350514614751}, {\"sample_mean\": 5.180998681534622}, {\"sample_mean\": 5.004318596213237}, {\"sample_mean\": 4.767357829780159}, {\"sample_mean\": 4.94201298066114}, {\"sample_mean\": 5.4145228759522865}, {\"sample_mean\": 5.049456421659042}, {\"sample_mean\": 5.077628150907177}, {\"sample_mean\": 4.968702913814294}, {\"sample_mean\": 5.0722153306799695}, {\"sample_mean\": 5.0566065167029475}, {\"sample_mean\": 5.081213879299157}, {\"sample_mean\": 5.216723292480944}, {\"sample_mean\": 4.7719231893688425}, {\"sample_mean\": 4.892017715831665}, {\"sample_mean\": 5.141520273428897}, {\"sample_mean\": 4.948551851554135}, {\"sample_mean\": 5.0179912897430015}, {\"sample_mean\": 5.554315832717837}, {\"sample_mean\": 4.838361167978146}, {\"sample_mean\": 4.823621477113376}, {\"sample_mean\": 5.316461280760199}, {\"sample_mean\": 4.792864537683586}, {\"sample_mean\": 4.970754813927015}, {\"sample_mean\": 5.197240118470899}, {\"sample_mean\": 5.359149204007566}, {\"sample_mean\": 4.717242718042723}, {\"sample_mean\": 4.423425749279044}, {\"sample_mean\": 5.086516428160859}, {\"sample_mean\": 5.8088141312897115}, {\"sample_mean\": 4.477546868696025}, {\"sample_mean\": 4.896608861281836}, {\"sample_mean\": 5.381644114532674}, {\"sample_mean\": 5.189749959226366}, {\"sample_mean\": 5.218876478777362}, {\"sample_mean\": 5.200208822915961}, {\"sample_mean\": 4.698450386331212}, {\"sample_mean\": 5.1705957753461345}, {\"sample_mean\": 5.153572000196504}, {\"sample_mean\": 5.065395195600569}, {\"sample_mean\": 5.242005912567741}, {\"sample_mean\": 5.475328041970735}, {\"sample_mean\": 5.219323195486188}, {\"sample_mean\": 4.959130018081731}, {\"sample_mean\": 5.4717437732188525}, {\"sample_mean\": 4.345306843153786}, {\"sample_mean\": 5.027217177702983}, {\"sample_mean\": 5.092211559697861}, {\"sample_mean\": 5.237585365554142}, {\"sample_mean\": 4.834309671712276}, {\"sample_mean\": 5.183146982486197}, {\"sample_mean\": 4.8571091124474535}, {\"sample_mean\": 4.732942690845069}, {\"sample_mean\": 5.691840493882263}, {\"sample_mean\": 5.727804198333092}, {\"sample_mean\": 4.808258658711596}, {\"sample_mean\": 4.899960555758971}, {\"sample_mean\": 4.782611696525294}, {\"sample_mean\": 5.495623271553243}, {\"sample_mean\": 5.574444608926747}, {\"sample_mean\": 4.480768501827856}, {\"sample_mean\": 5.1440367358591015}, {\"sample_mean\": 5.092310799691518}, {\"sample_mean\": 4.872080815963223}, {\"sample_mean\": 4.881921830899085}, {\"sample_mean\": 4.707901840821946}, {\"sample_mean\": 5.171041066191722}, {\"sample_mean\": 4.620201370351813}, {\"sample_mean\": 4.072690908950289}, {\"sample_mean\": 4.783396950403651}, {\"sample_mean\": 4.741157387766509}, {\"sample_mean\": 5.206721858992726}, {\"sample_mean\": 4.881641850097735}, {\"sample_mean\": 4.688849531211037}, {\"sample_mean\": 4.71748923163116}, {\"sample_mean\": 5.5922419841598865}, {\"sample_mean\": 5.671587665933366}, {\"sample_mean\": 4.6085737009936185}, {\"sample_mean\": 4.6618499782777985}, {\"sample_mean\": 5.70651067863636}, {\"sample_mean\": 4.779520598840982}, {\"sample_mean\": 5.540789289555146}, {\"sample_mean\": 5.573820858709221}, {\"sample_mean\": 5.025022790133525}, {\"sample_mean\": 5.161539349949686}, {\"sample_mean\": 5.072120834197038}, {\"sample_mean\": 5.618754767365889}, {\"sample_mean\": 4.90257566524886}, {\"sample_mean\": 5.617587460349703}, {\"sample_mean\": 5.531702492352463}, {\"sample_mean\": 5.390644864959111}, {\"sample_mean\": 5.178630465235012}, {\"sample_mean\": 4.713247318723026}, {\"sample_mean\": 5.002672003391393}, {\"sample_mean\": 5.215604787178783}, {\"sample_mean\": 4.811061266269792}, {\"sample_mean\": 4.847091650864595}, {\"sample_mean\": 4.6809948671205435}, {\"sample_mean\": 5.521533531229011}, {\"sample_mean\": 5.169880914083628}, {\"sample_mean\": 4.895827112585352}, {\"sample_mean\": 4.642865971536828}, {\"sample_mean\": 4.926233880669605}, {\"sample_mean\": 5.605485472564691}, {\"sample_mean\": 5.177747390051381}, {\"sample_mean\": 4.975500492901281}], \"data-7efce130a2d22c3176072cc84f76b386\": [{\"x\": 3.0, \"pdf\": 1.2698234671866516e-07}, {\"x\": 3.02, \"pdf\": 1.745913454978549e-07}, {\"x\": 3.04, \"pdf\": 2.392832686493284e-07}, {\"x\": 3.06, \"pdf\": 3.2689796042871425e-07}, {\"x\": 3.08, \"pdf\": 4.4516636871660476e-07}, {\"x\": 3.1, \"pdf\": 6.042862893222472e-07}, {\"x\": 3.12, \"pdf\": 8.176612038467836e-07}, {\"x\": 3.14, \"pdf\": 1.1028445489822057e-06}, {\"x\": 3.16, \"pdf\": 1.4827415837314824e-06}, {\"x\": 3.18, \"pdf\": 1.98713279968088e-06}, {\"x\": 3.2, \"pdf\": 2.6545968447165894e-06}, {\"x\": 3.22, \"pdf\": 3.5349275199902957e-06}, {\"x\": 3.24, \"pdf\": 4.692158896370975e-06}, {\"x\": 3.26, \"pdf\": 6.2083353200127476e-06}, {\"x\": 3.2800000000000002, \"pdf\": 8.188189372620189e-06}, {\"x\": 3.3, \"pdf\": 1.076492103668062e-05}, {\"x\": 3.32, \"pdf\": 1.410730566683488e-05}, {\"x\": 3.34, \"pdf\": 1.8428397100512744e-05}, {\"x\": 3.36, \"pdf\": 2.399613547720731e-05}, {\"x\": 3.38, \"pdf\": 3.1146217073624676e-05}, {\"x\": 3.4, \"pdf\": 4.029763553323548e-05}, {\"x\": 3.42, \"pdf\": 5.197135989491106e-05}, {\"x\": 3.44, \"pdf\": 6.68126741680044e-05}, {\"x\": 3.46, \"pdf\": 8.561776490903225e-05}, {\"x\": 3.48, \"pdf\": 0.00010936520600809304}, {\"x\": 3.5, \"pdf\": 0.00013925305194674762}, {\"x\": 3.52, \"pdf\": 0.000176742309920232}, {\"x\": 3.54, \"pdf\": 0.00022360761467528887}, {\"x\": 3.56, \"pdf\": 0.0002819959743832502}, {\"x\": 3.58, \"pdf\": 0.0003544944874357519}, {\"x\": 3.6, \"pdf\": 0.0004442079442056664}, {\"x\": 3.62, \"pdf\": 0.0005548472194610549}, {\"x\": 3.64, \"pdf\": 0.0006908293246174893}, {\"x\": 3.66, \"pdf\": 0.0008573899182661942}, {\"x\": 3.68, \"pdf\": 0.001060708961985602}, {\"x\": 3.7, \"pdf\": 0.0013080500497232822}, {\"x\": 3.7199999999999998, \"pdf\": 0.0016079137264583395}, {\"x\": 3.74, \"pdf\": 0.0019702048391677224}, {\"x\": 3.76, \"pdf\": 0.002406413624699962}, {\"x\": 3.7800000000000002, \"pdf\": 0.002929809830385715}, {\"x\": 3.8, \"pdf\": 0.003555648680877736}, {\"x\": 3.8200000000000003, \"pdf\": 0.004301386947475875}, {\"x\": 3.84, \"pdf\": 0.00518690674505229}, {\"x\": 3.86, \"pdf\": 0.006234743980477786}, {\"x\": 3.88, \"pdf\": 0.007470317612272713}, {\"x\": 3.9, \"pdf\": 0.008922155064916192}, {\"x\": 3.92, \"pdf\": 0.010622108287775604}, {\"x\": 3.94, \"pdf\": 0.012605554077273774}, {\"x\": 3.96, \"pdf\": 0.014911571415507946}, {\"x\": 3.98, \"pdf\": 0.01758308774738886}, {\"x\": 4.0, \"pdf\": 0.02066698535409204}, {\"x\": 4.02, \"pdf\": 0.02421415831968451}, {\"x\": 4.04, \"pdf\": 0.028279510069901093}, {\"x\": 4.0600000000000005, \"pdf\": 0.03292188112916045}, {\"x\": 4.08, \"pdf\": 0.038203896637112454}, {\"x\": 4.1, \"pdf\": 0.04419172333201094}, {\"x\": 4.12, \"pdf\": 0.050954726185723526}, {\"x\": 4.140000000000001, \"pdf\": 0.058565015701017895}, {\"x\": 4.16, \"pdf\": 0.06709687808675474}, {\"x\": 4.18, \"pdf\": 0.07662608213355307}, {\"x\": 4.2, \"pdf\": 0.08722905863394545}, {\"x\": 4.22, \"pdf\": 0.09898195062734902}, {\"x\": 4.24, \"pdf\": 0.11195953558753903}, {\"x\": 4.26, \"pdf\": 0.12623402387923904}, {\"x\": 4.28, \"pdf\": 0.14187374134473915}, {\"x\": 4.3, \"pdf\": 0.15894170767727767}, {\"x\": 4.32, \"pdf\": 0.17749412621427865}, {\"x\": 4.34, \"pdf\": 0.19757880484240298}, {\"x\": 4.36, \"pdf\": 0.21923353173480786}, {\"x\": 4.38, \"pdf\": 0.24248443351280316}, {\"x\": 4.4, \"pdf\": 0.2673443470035396}, {\"x\": 4.42, \"pdf\": 0.2938112389103993}, {\"x\": 4.4399999999999995, \"pdf\": 0.3218667102803008}, {\"x\": 4.46, \"pdf\": 0.3514746245023804}, {\"x\": 4.48, \"pdf\": 0.38257989857533004}, {\"x\": 4.5, \"pdf\": 0.41510749742059466}, {\"x\": 4.52, \"pdf\": 0.4489616700010925}, {\"x\": 4.54, \"pdf\": 0.4840254638617831}, {\"x\": 4.5600000000000005, \"pdf\": 0.5201605514020323}, {\"x\": 4.58, \"pdf\": 0.5572073967184715}, {\"x\": 4.6, \"pdf\": 0.5949857862574683}, {\"x\": 4.62, \"pdf\": 0.633295739865391}, {\"x\": 4.640000000000001, \"pdf\": 0.6719188112401959}, {\"x\": 4.66, \"pdf\": 0.7106197784266876}, {\"x\": 4.68, \"pdf\": 0.7491487160540626}, {\"x\": 4.7, \"pdf\": 0.7872434317142878}, {\"x\": 4.72, \"pdf\": 0.8246322394759612}, {\"x\": 4.74, \"pdf\": 0.8610370342917477}, {\"x\": 4.76, \"pdf\": 0.8961766222695111}, {\"x\": 4.78, \"pdf\": 0.929770253719997}, {\"x\": 4.8, \"pdf\": 0.9615412988393077}, {\"x\": 4.82, \"pdf\": 0.9912210000854449}, {\"x\": 4.84, \"pdf\": 1.0185522309873223}, {\"x\": 4.86, \"pdf\": 1.0432931884662069}, {\"x\": 4.88, \"pdf\": 1.0652209448901007}, {\"x\": 4.9, \"pdf\": 1.0841347871048637}, {\"x\": 4.92, \"pdf\": 1.0998592726166878}, {\"x\": 4.9399999999999995, \"pdf\": 1.112246937903477}, {\"x\": 4.96, \"pdf\": 1.1211806004105842}, {\"x\": 4.98, \"pdf\": 1.126575203983495}, {\"x\": 5.0, \"pdf\": 1.1283791670955128}, {\"x\": 5.02, \"pdf\": 1.126575203983495}, {\"x\": 5.04, \"pdf\": 1.1211806004105842}, {\"x\": 5.0600000000000005, \"pdf\": 1.112246937903477}, {\"x\": 5.08, \"pdf\": 1.0998592726166878}, {\"x\": 5.1, \"pdf\": 1.0841347871048637}, {\"x\": 5.12, \"pdf\": 1.0652209448901007}, {\"x\": 5.140000000000001, \"pdf\": 1.0432931884662056}, {\"x\": 5.16, \"pdf\": 1.0185522309873223}, {\"x\": 5.18, \"pdf\": 0.9912210000854449}, {\"x\": 5.2, \"pdf\": 0.9615412988393077}, {\"x\": 5.220000000000001, \"pdf\": 0.9297702537199956}, {\"x\": 5.24, \"pdf\": 0.8961766222695111}, {\"x\": 5.26, \"pdf\": 0.8610370342917477}, {\"x\": 5.28, \"pdf\": 0.8246322394759612}, {\"x\": 5.300000000000001, \"pdf\": 0.787243431714286}, {\"x\": 5.32, \"pdf\": 0.7491487160540626}, {\"x\": 5.34, \"pdf\": 0.7106197784266876}, {\"x\": 5.359999999999999, \"pdf\": 0.6719188112401959}, {\"x\": 5.38, \"pdf\": 0.633295739865391}, {\"x\": 5.4, \"pdf\": 0.5949857862574683}, {\"x\": 5.42, \"pdf\": 0.5572073967184715}, {\"x\": 5.4399999999999995, \"pdf\": 0.5201605514020323}, {\"x\": 5.46, \"pdf\": 0.4840254638617831}, {\"x\": 5.48, \"pdf\": 0.4489616700010925}, {\"x\": 5.5, \"pdf\": 0.41510749742059466}, {\"x\": 5.52, \"pdf\": 0.38257989857533004}, {\"x\": 5.54, \"pdf\": 0.3514746245023804}, {\"x\": 5.5600000000000005, \"pdf\": 0.3218667102803008}, {\"x\": 5.58, \"pdf\": 0.2938112389103993}, {\"x\": 5.6, \"pdf\": 0.2673443470035396}, {\"x\": 5.62, \"pdf\": 0.24248443351280316}, {\"x\": 5.640000000000001, \"pdf\": 0.2192335317348069}, {\"x\": 5.66, \"pdf\": 0.19757880484240298}, {\"x\": 5.68, \"pdf\": 0.17749412621427865}, {\"x\": 5.7, \"pdf\": 0.15894170767727767}, {\"x\": 5.720000000000001, \"pdf\": 0.14187374134473843}, {\"x\": 5.74, \"pdf\": 0.12623402387923904}, {\"x\": 5.76, \"pdf\": 0.11195953558753903}, {\"x\": 5.78, \"pdf\": 0.09898195062734902}, {\"x\": 5.800000000000001, \"pdf\": 0.08722905863394495}, {\"x\": 5.82, \"pdf\": 0.07662608213355307}, {\"x\": 5.84, \"pdf\": 0.06709687808675474}, {\"x\": 5.859999999999999, \"pdf\": 0.058565015701017895}, {\"x\": 5.88, \"pdf\": 0.050954726185723526}, {\"x\": 5.9, \"pdf\": 0.04419172333201094}, {\"x\": 5.92, \"pdf\": 0.038203896637112454}, {\"x\": 5.9399999999999995, \"pdf\": 0.03292188112916045}, {\"x\": 5.96, \"pdf\": 0.028279510069901093}, {\"x\": 5.98, \"pdf\": 0.02421415831968451}, {\"x\": 6.0, \"pdf\": 0.02066698535409204}, {\"x\": 6.02, \"pdf\": 0.01758308774738892}, {\"x\": 6.04, \"pdf\": 0.014911571415507946}, {\"x\": 6.0600000000000005, \"pdf\": 0.012605554077273729}, {\"x\": 6.08, \"pdf\": 0.010622108287775604}, {\"x\": 6.1, \"pdf\": 0.008922155064916231}, {\"x\": 6.12, \"pdf\": 0.007470317612272713}, {\"x\": 6.140000000000001, \"pdf\": 0.006234743980477765}, {\"x\": 6.16, \"pdf\": 0.00518690674505229}, {\"x\": 6.18, \"pdf\": 0.004301386947475875}, {\"x\": 6.2, \"pdf\": 0.003555648680877736}, {\"x\": 6.220000000000001, \"pdf\": 0.002929809830385691}, {\"x\": 6.24, \"pdf\": 0.002406413624699962}, {\"x\": 6.26, \"pdf\": 0.0019702048391677224}, {\"x\": 6.28, \"pdf\": 0.0016079137264583395}, {\"x\": 6.300000000000001, \"pdf\": 0.0013080500497232694}, {\"x\": 6.32, \"pdf\": 0.001060708961985599}, {\"x\": 6.34, \"pdf\": 0.0008573899182661942}, {\"x\": 6.359999999999999, \"pdf\": 0.0006908293246174929}, {\"x\": 6.38, \"pdf\": 0.0005548472194610549}, {\"x\": 6.4, \"pdf\": 0.00044420794420566397}, {\"x\": 6.42, \"pdf\": 0.0003544944874357519}, {\"x\": 6.4399999999999995, \"pdf\": 0.0002819959743832512}, {\"x\": 6.46, \"pdf\": 0.00022360761467528887}, {\"x\": 6.48, \"pdf\": 0.0001767423099202314}, {\"x\": 6.5, \"pdf\": 0.00013925305194674762}, {\"x\": 6.52, \"pdf\": 0.00010936520600809382}, {\"x\": 6.54, \"pdf\": 8.561776490903225e-05}, {\"x\": 6.5600000000000005, \"pdf\": 6.681267416800381e-05}, {\"x\": 6.58, \"pdf\": 5.197135989491106e-05}, {\"x\": 6.6, \"pdf\": 4.0297635533235756e-05}, {\"x\": 6.62, \"pdf\": 3.1146217073624676e-05}, {\"x\": 6.640000000000001, \"pdf\": 2.39961354772071e-05}, {\"x\": 6.66, \"pdf\": 1.8428397100512744e-05}, {\"x\": 6.68, \"pdf\": 1.4107305666834931e-05}, {\"x\": 6.7, \"pdf\": 1.076492103668062e-05}, {\"x\": 6.720000000000001, \"pdf\": 8.188189372620087e-06}, {\"x\": 6.74, \"pdf\": 6.2083353200127476e-06}, {\"x\": 6.76, \"pdf\": 4.692158896370975e-06}, {\"x\": 6.78, \"pdf\": 3.5349275199902647e-06}, {\"x\": 6.800000000000001, \"pdf\": 2.6545968447165564e-06}, {\"x\": 6.82, \"pdf\": 1.9871327996808693e-06}, {\"x\": 6.84, \"pdf\": 1.4827415837314824e-06}, {\"x\": 6.859999999999999, \"pdf\": 1.1028445489822155e-06}, {\"x\": 6.88, \"pdf\": 8.176612038467836e-07}, {\"x\": 6.9, \"pdf\": 6.042862893222408e-07}, {\"x\": 6.92, \"pdf\": 4.4516636871660476e-07}, {\"x\": 6.9399999999999995, \"pdf\": 3.268979604287172e-07}, {\"x\": 6.96, \"pdf\": 2.392832686493284e-07}, {\"x\": 6.98, \"pdf\": 1.7459134549785337e-07}]}}, {\"mode\": \"vega-lite\"});\n",
       "</script>"
      ],
      "text/plain": [
       "alt.LayerChart(...)"
      ]
     },
     "execution_count": 16,
     "metadata": {},
     "output_type": "execute_result"
    }
   ],
   "source": [
    "data_kde = (alt\n",
    "                .Chart(plot_df)\n",
    "                .transform_density(\n",
    "                    'sample_mean',\n",
    "                    as_=['sample_mean', 'density'],\n",
    "                    extent=[3,7]\n",
    "                )\n",
    "                .mark_area()\n",
    "                .encode(x = alt.X(\"sample_mean:Q\",\n",
    "                                 title=\"Sample mean\"),\n",
    "                        y = \"density:Q\"))\n",
    "\n",
    "clt_line = (alt\n",
    "               .Chart(clt_df)\n",
    "               .mark_line(color = \"red\")\n",
    "               .encode(x = \"x\",\n",
    "                       y = \"pdf\"))\n",
    "\n",
    "data_kde + clt_line"
   ]
  },
  {
   "cell_type": "code",
   "execution_count": 17,
   "metadata": {},
   "outputs": [
    {
     "data": {
      "text/html": [
       "\n",
       "<div id=\"altair-viz-30fe1d05a2c741339712676e9a26e9f1\"></div>\n",
       "<script type=\"text/javascript\">\n",
       "  (function(spec, embedOpt){\n",
       "    let outputDiv = document.currentScript.previousElementSibling;\n",
       "    if (outputDiv.id !== \"altair-viz-30fe1d05a2c741339712676e9a26e9f1\") {\n",
       "      outputDiv = document.getElementById(\"altair-viz-30fe1d05a2c741339712676e9a26e9f1\");\n",
       "    }\n",
       "    const paths = {\n",
       "      \"vega\": \"https://cdn.jsdelivr.net/npm//vega@5?noext\",\n",
       "      \"vega-lib\": \"https://cdn.jsdelivr.net/npm//vega-lib?noext\",\n",
       "      \"vega-lite\": \"https://cdn.jsdelivr.net/npm//vega-lite@4.8.1?noext\",\n",
       "      \"vega-embed\": \"https://cdn.jsdelivr.net/npm//vega-embed@6?noext\",\n",
       "    };\n",
       "\n",
       "    function loadScript(lib) {\n",
       "      return new Promise(function(resolve, reject) {\n",
       "        var s = document.createElement('script');\n",
       "        s.src = paths[lib];\n",
       "        s.async = true;\n",
       "        s.onload = () => resolve(paths[lib]);\n",
       "        s.onerror = () => reject(`Error loading script: ${paths[lib]}`);\n",
       "        document.getElementsByTagName(\"head\")[0].appendChild(s);\n",
       "      });\n",
       "    }\n",
       "\n",
       "    function showError(err) {\n",
       "      outputDiv.innerHTML = `<div class=\"error\" style=\"color:red;\">${err}</div>`;\n",
       "      throw err;\n",
       "    }\n",
       "\n",
       "    function displayChart(vegaEmbed) {\n",
       "      vegaEmbed(outputDiv, spec, embedOpt)\n",
       "        .catch(err => showError(`Javascript Error: ${err.message}<br>This usually means there's a typo in your chart specification. See the javascript console for the full traceback.`));\n",
       "    }\n",
       "\n",
       "    if(typeof define === \"function\" && define.amd) {\n",
       "      requirejs.config({paths});\n",
       "      require([\"vega-embed\"], displayChart, err => showError(`Error loading script: ${err.message}`));\n",
       "    } else if (typeof vegaEmbed === \"function\") {\n",
       "      displayChart(vegaEmbed);\n",
       "    } else {\n",
       "      loadScript(\"vega\")\n",
       "        .then(() => loadScript(\"vega-lite\"))\n",
       "        .then(() => loadScript(\"vega-embed\"))\n",
       "        .catch(showError)\n",
       "        .then(() => displayChart(vegaEmbed));\n",
       "    }\n",
       "  })({\"config\": {\"view\": {\"continuousWidth\": 400, \"continuousHeight\": 300}}, \"layer\": [{\"data\": {\"name\": \"data-097b2fded4cb3a34e02f3efe2d604525\"}, \"mark\": \"point\", \"encoding\": {\"x\": {\"type\": \"quantitative\", \"field\": \"sample_means\", \"scale\": {\"zero\": false}, \"title\": \"Sample mean quantile\"}, \"y\": {\"type\": \"quantitative\", \"field\": \"quantiles\", \"scale\": {\"zero\": false}, \"title\": \"Normal quantile\"}}}, {\"data\": {\"name\": \"data-8374202b552c63c0850a1bf17419bc6a\"}, \"mark\": {\"type\": \"line\", \"color\": \"red\"}, \"encoding\": {\"x\": {\"type\": \"quantitative\", \"field\": \"x\"}, \"y\": {\"type\": \"quantitative\", \"field\": \"y\"}}}], \"$schema\": \"https://vega.github.io/schema/vega-lite/v4.8.1.json\", \"datasets\": {\"data-097b2fded4cb3a34e02f3efe2d604525\": [{\"sample_means\": 3.884887212198005, \"quantiles\": 3.9074378904334983}, {\"sample_means\": 4.0200920994499425, \"quantiles\": 4.0285125745668395}, {\"sample_means\": 4.0708846911752055, \"quantiles\": 4.089306816140775}, {\"sample_means\": 4.072690908950289, \"quantiles\": 4.131226196812145}, {\"sample_means\": 4.150842275027186, \"quantiles\": 4.16362769039822}, {\"sample_means\": 4.158667367687139, \"quantiles\": 4.190232671078349}, {\"sample_means\": 4.210691942606794, \"quantiles\": 4.212915280779262}, {\"sample_means\": 4.277476645337844, \"quantiles\": 4.232757189111141}, {\"sample_means\": 4.313379339139454, \"quantiles\": 4.250441465790852}, {\"sample_means\": 4.329007541458099, \"quantiles\": 4.266428073666739}, {\"sample_means\": 4.332620537147563, \"quantiles\": 4.281042056391843}, {\"sample_means\": 4.341529618150668, \"quantiles\": 4.29452192962303}, {\"sample_means\": 4.345306843153786, \"quantiles\": 4.307048087825161}, {\"sample_means\": 4.358460382472159, \"quantiles\": 4.31876039640342}, {\"sample_means\": 4.369405725629914, \"quantiles\": 4.329769571432056}, {\"sample_means\": 4.375547058111549, \"quantiles\": 4.340164812050592}, {\"sample_means\": 4.378417726839363, \"quantiles\": 4.350019078390521}, {\"sample_means\": 4.384368891757382, \"quantiles\": 4.359392838125469}, {\"sample_means\": 4.4100502694328725, \"quantiles\": 4.3683367869505245}, {\"sample_means\": 4.421718502124535, \"quantiles\": 4.376893863574251}, {\"sample_means\": 4.423425749279044, \"quantiles\": 4.3851007685264936}, {\"sample_means\": 4.446503948391726, \"quantiles\": 4.39298912692152}, {\"sample_means\": 4.461119733425721, \"quantiles\": 4.400586391129214}, {\"sample_means\": 4.4738786816808895, \"quantiles\": 4.407916550377942}, {\"sample_means\": 4.477546868696025, \"quantiles\": 4.41500069495354}, {\"sample_means\": 4.480768501827856, \"quantiles\": 4.421857469445889}, {\"sample_means\": 4.486934845637769, \"quantiles\": 4.428503440313997}, {\"sample_means\": 4.494077097171669, \"quantiles\": 4.434953396557377}, {\"sample_means\": 4.496355597038404, \"quantiles\": 4.441220597634742}, {\"sample_means\": 4.497366385120858, \"quantiles\": 4.447316979394846}, {\"sample_means\": 4.498373950589866, \"quantiles\": 4.453253326300384}, {\"sample_means\": 4.503276421713926, \"quantiles\": 4.459039416376998}, {\"sample_means\": 4.511337521235406, \"quantiles\": 4.464684143928526}, {\"sample_means\": 4.514314475946283, \"quantiles\": 4.470195624002706}, {\"sample_means\": 4.53115821119035, \"quantiles\": 4.475581281780869}, {\"sample_means\": 4.534563335301441, \"quantiles\": 4.480847929438017}, {\"sample_means\": 4.536710324388152, \"quantiles\": 4.486001832530498}, {\"sample_means\": 4.540642407302102, \"quantiles\": 4.491048767583986}, {\"sample_means\": 4.541359832287027, \"quantiles\": 4.495994072250183}, {\"sample_means\": 4.543175522015383, \"quantiles\": 4.500842689158024}, {\"sample_means\": 4.546461488049706, \"quantiles\": 4.5055992043906805}, {\"sample_means\": 4.547469321044574, \"quantiles\": 4.510267881362602}, {\"sample_means\": 4.55582513930913, \"quantiles\": 4.514852690743496}, {\"sample_means\": 4.557409151933794, \"quantiles\": 4.519357336972134}, {\"sample_means\": 4.557920681706109, \"quantiles\": 4.5237852818176645}, {\"sample_means\": 4.558671264281969, \"quantiles\": 4.528139765375799}, {\"sample_means\": 4.564951250745315, \"quantiles\": 4.532423824829105}, {\"sample_means\": 4.566961425198928, \"quantiles\": 4.536640311252236}, {\"sample_means\": 4.5702073578793145, \"quantiles\": 4.540791904702492}, {\"sample_means\": 4.576004878766642, \"quantiles\": 4.544881127802275}, {\"sample_means\": 4.585425398256447, \"quantiles\": 4.548910357991415}, {\"sample_means\": 4.603822002898592, \"quantiles\": 4.552881838603297}, {\"sample_means\": 4.6085737009936185, \"quantiles\": 4.556797688898229}, {\"sample_means\": 4.609242307867716, \"quantiles\": 4.560659913170154}, {\"sample_means\": 4.61412512558037, \"quantiles\": 4.564470409027941}, {\"sample_means\": 4.614982981033817, \"quantiles\": 4.568230974939771}, {\"sample_means\": 4.620201370351813, \"quantiles\": 4.571943317118258}, {\"sample_means\": 4.623948300258906, \"quantiles\": 4.575609055814519}, {\"sample_means\": 4.627959959146491, \"quantiles\": 4.579229731081292}, {\"sample_means\": 4.633914126599779, \"quantiles\": 4.582806808058165}, {\"sample_means\": 4.636739440980141, \"quantiles\": 4.586341681825912}, {\"sample_means\": 4.639176264709443, \"quantiles\": 4.589835681871555}, {\"sample_means\": 4.641481938827263, \"quantiles\": 4.593290076201191}, {\"sample_means\": 4.642865971536828, \"quantiles\": 4.596706075133549}, {\"sample_means\": 4.645025195368912, \"quantiles\": 4.600084834803677}, {\"sample_means\": 4.654178449660662, \"quantiles\": 4.6034274604030525}, {\"sample_means\": 4.65696922074187, \"quantiles\": 4.60673500917966}, {\"sample_means\": 4.6618499782777985, \"quantiles\": 4.610008493219149}, {\"sample_means\": 4.663232348207423, \"quantiles\": 4.613248882026049}, {\"sample_means\": 4.666438466211613, \"quantiles\": 4.61645710492212}, {\"sample_means\": 4.667020969073172, \"quantiles\": 4.6196340532772355}, {\"sample_means\": 4.669572064191349, \"quantiles\": 4.622780582586689}, {\"sample_means\": 4.669572297872261, \"quantiles\": 4.625897514407508}, {\"sample_means\": 4.670127845139648, \"quantiles\": 4.628985638165144}, {\"sample_means\": 4.672631635558227, \"quantiles\": 4.632045712840866}, {\"sample_means\": 4.674425416411805, \"quantiles\": 4.63507846854922}, {\"sample_means\": 4.675446765556725, \"quantiles\": 4.638084608014093}, {\"sample_means\": 4.6809948671205435, \"quantiles\": 4.641064807951123}, {\"sample_means\": 4.682374230773721, \"quantiles\": 4.644019720363531}, {\"sample_means\": 4.688849531211037, \"quantiles\": 4.646949973757847}, {\"sample_means\": 4.689385077891021, \"quantiles\": 4.649856174285401}, {\"sample_means\": 4.689465327715195, \"quantiles\": 4.652738906814999}, {\"sample_means\": 4.69224669616465, \"quantiles\": 4.655598735941722}, {\"sample_means\": 4.694856636704436, \"quantiles\": 4.658436206936368}, {\"sample_means\": 4.696387078871827, \"quantiles\": 4.661251846639718}, {\"sample_means\": 4.696851151773831, \"quantiles\": 4.664046164305441}, {\"sample_means\": 4.698450386331212, \"quantiles\": 4.66681965239514}, {\"sample_means\": 4.7004483348681845, \"quantiles\": 4.669572787328807}, {\"sample_means\": 4.703942753015151, \"quantiles\": 4.672306030193648}, {\"sample_means\": 4.704195128968984, \"quantiles\": 4.675019827414043}, {\"sample_means\": 4.707376567216431, \"quantiles\": 4.6777146113851735}, {\"sample_means\": 4.707901840821946, \"quantiles\": 4.680390801072691}, {\"sample_means\": 4.709662736364135, \"quantiles\": 4.683048802580564}, {\"sample_means\": 4.713247318723026, \"quantiles\": 4.685689009689157}, {\"sample_means\": 4.715050871617997, \"quantiles\": 4.688311804365373}, {\"sample_means\": 4.716932297113917, \"quantiles\": 4.690917557246616}, {\"sample_means\": 4.717242718042723, \"quantiles\": 4.693506628100157}, {\"sample_means\": 4.71748923163116, \"quantiles\": 4.6960793662594185}, {\"sample_means\": 4.7246524223374395, \"quantiles\": 4.698636111038546}, {\"sample_means\": 4.727020449669863, \"quantiles\": 4.701177192126562}, {\"sample_means\": 4.727026843522433, \"quantiles\": 4.703702929962316}, {\"sample_means\": 4.7280536759162395, \"quantiles\": 4.70621363609133}, {\"sample_means\": 4.7283233879173245, \"quantiles\": 4.708709613505602}, {\"sample_means\": 4.728418266992577, \"quantiles\": 4.711191156967332}, {\"sample_means\": 4.728504709914493, \"quantiles\": 4.713658553317482}, {\"sample_means\": 4.729055133487313, \"quantiles\": 4.7161120817700235}, {\"sample_means\": 4.731722458813142, \"quantiles\": 4.718552014192659}, {\"sample_means\": 4.731954132114502, \"quantiles\": 4.720978615374777}, {\"sample_means\": 4.732942690845069, \"quantiles\": 4.723392143283312}, {\"sample_means\": 4.733817009041511, \"quantiles\": 4.725792849307199}, {\"sample_means\": 4.738413754632147, \"quantiles\": 4.728180978490986}, {\"sample_means\": 4.740399060717666, \"quantiles\": 4.730556769758226}, {\"sample_means\": 4.741157387766509, \"quantiles\": 4.732920456125149}, {\"sample_means\": 4.745050472826873, \"quantiles\": 4.735272264905146}, {\"sample_means\": 4.74916922667972, \"quantiles\": 4.737612417904525}, {\"sample_means\": 4.754014098927496, \"quantiles\": 4.739941131609988}, {\"sample_means\": 4.758387277361561, \"quantiles\": 4.742258617368254}, {\"sample_means\": 4.762649073736377, \"quantiles\": 4.744565081558219}, {\"sample_means\": 4.7633202970208846, \"quantiles\": 4.746860725756031}, {\"sample_means\": 4.764406437633376, \"quantiles\": 4.749145746893416}, {\"sample_means\": 4.764474822504932, \"quantiles\": 4.751420337409606}, {\"sample_means\": 4.767357829780159, \"quantiles\": 4.753684685397165}, {\"sample_means\": 4.7689914320142694, \"quantiles\": 4.755938974742021}, {\"sample_means\": 4.7719231893688425, \"quantiles\": 4.758183385257961}, {\"sample_means\": 4.773503992305229, \"quantiles\": 4.760418092815877}, {\"sample_means\": 4.775126886913139, \"quantiles\": 4.762643269467992}, {\"sample_means\": 4.779520598840982, \"quantiles\": 4.764859083567301}, {\"sample_means\": 4.780079829017978, \"quantiles\": 4.767065699882472}, {\"sample_means\": 4.782611696525294, \"quantiles\": 4.769263279708377}, {\"sample_means\": 4.782844686803111, \"quantiles\": 4.771451980972493}, {\"sample_means\": 4.783396950403651, \"quantiles\": 4.7736319583373295}, {\"sample_means\": 4.786755823307183, \"quantiles\": 4.775803363299072}, {\"sample_means\": 4.788330398798809, \"quantiles\": 4.777966344282629}, {\"sample_means\": 4.7910852379355005, \"quantiles\": 4.780121046733197}, {\"sample_means\": 4.792864537683586, \"quantiles\": 4.782267613204553}, {\"sample_means\": 4.7951855502776946, \"quantiles\": 4.7844061834441645}, {\"sample_means\": 4.795350514614751, \"quantiles\": 4.786536894475296}, {\"sample_means\": 4.800098189986095, \"quantiles\": 4.788659880676219}, {\"sample_means\": 4.801694098375452, \"quantiles\": 4.790775273856649}, {\"sample_means\": 4.8035644738596135, \"quantiles\": 4.792883203331545}, {\"sample_means\": 4.808258658711596, \"quantiles\": 4.794983795992361}, {\"sample_means\": 4.808820916441164, \"quantiles\": 4.797077176375871}, {\"sample_means\": 4.809457322167978, \"quantiles\": 4.799163466730663}, {\"sample_means\": 4.811061266269792, \"quantiles\": 4.8012427870813985}, {\"sample_means\": 4.814013665196734, \"quantiles\": 4.803315255290928}, {\"sample_means\": 4.816005362856855, \"quantiles\": 4.8053809871203566}, {\"sample_means\": 4.818406807124585, \"quantiles\": 4.807440096287129}, {\"sample_means\": 4.820261496187376, \"quantiles\": 4.809492694521234}, {\"sample_means\": 4.823621477113376, \"quantiles\": 4.8115388916195805}, {\"sample_means\": 4.8243747937534245, \"quantiles\": 4.813578795498638}, {\"sample_means\": 4.827393183634172, \"quantiles\": 4.815612512245394}, {\"sample_means\": 4.83282713624237, \"quantiles\": 4.81764014616671}, {\"sample_means\": 4.8330043701311585, \"quantiles\": 4.819661799837121}, {\"sample_means\": 4.834309671712276, \"quantiles\": 4.8216775741451565}, {\"sample_means\": 4.83619590053315, \"quantiles\": 4.823687568338226}, {\"sample_means\": 4.838361167978146, \"quantiles\": 4.825691880066132}, {\"sample_means\": 4.839793691972376, \"quantiles\": 4.827690605423262}, {\"sample_means\": 4.84346338170398, \"quantiles\": 4.829683838989503}, {\"sample_means\": 4.847091650864595, \"quantiles\": 4.831671673869937}, {\"sample_means\": 4.8498110504704774, \"quantiles\": 4.833654201733354}, {\"sample_means\": 4.851533411033849, \"quantiles\": 4.835631512849632}, {\"sample_means\": 4.851596326827206, \"quantiles\": 4.837603696126029}, {\"sample_means\": 4.8528338546877015, \"quantiles\": 4.839570839142409}, {\"sample_means\": 4.8571091124474535, \"quantiles\": 4.841533028185469}, {\"sample_means\": 4.863984449305221, \"quantiles\": 4.843490348281982}, {\"sample_means\": 4.865097991250325, \"quantiles\": 4.845442883231099}, {\"sample_means\": 4.866008014353505, \"quantiles\": 4.847390715635748}, {\"sample_means\": 4.869712407362199, \"quantiles\": 4.849333926933147}, {\"sample_means\": 4.870912653519398, \"quantiles\": 4.851272597424491}, {\"sample_means\": 4.872080815963223, \"quantiles\": 4.85320680630381}, {\"sample_means\": 4.875152883445338, \"quantiles\": 4.855136631686047}, {\"sample_means\": 4.876911191383143, \"quantiles\": 4.857062150634389}, {\"sample_means\": 4.878070022286936, \"quantiles\": 4.858983439186849}, {\"sample_means\": 4.881641850097735, \"quantiles\": 4.86090057238216}, {\"sample_means\": 4.881921830899085, \"quantiles\": 4.862813624284983}, {\"sample_means\": 4.884416532097395, \"quantiles\": 4.864722668010452}, {\"sample_means\": 4.8844866517913, \"quantiles\": 4.866627775748098}, {\"sample_means\": 4.88930769983003, \"quantiles\": 4.868529018785152}, {\"sample_means\": 4.889388775540902, \"quantiles\": 4.870426467529256}, {\"sample_means\": 4.892017715831665, \"quantiles\": 4.872320191530613}, {\"sample_means\": 4.892335368259446, \"quantiles\": 4.874210259503574}, {\"sample_means\": 4.893587793707743, \"quantiles\": 4.876096739347701}, {\"sample_means\": 4.895073596726722, \"quantiles\": 4.877979698168309}, {\"sample_means\": 4.895165701174043, \"quantiles\": 4.879859202296521}, {\"sample_means\": 4.895827112585352, \"quantiles\": 4.881735317308828}, {\"sample_means\": 4.896126668031391, \"quantiles\": 4.883608108046202}, {\"sample_means\": 4.896608861281836, \"quantiles\": 4.885477638632744}, {\"sample_means\": 4.899960555758971, \"quantiles\": 4.887343972493911}, {\"sample_means\": 4.90257566524886, \"quantiles\": 4.889207172374319}, {\"sample_means\": 4.906040548115986, \"quantiles\": 4.891067300355139}, {\"sample_means\": 4.907184729613542, \"quantiles\": 4.892924417871107}, {\"sample_means\": 4.908619232421321, \"quantiles\": 4.894778585727152}, {\"sample_means\": 4.911987246259366, \"quantiles\": 4.896629864114657}, {\"sample_means\": 4.9162861043837, \"quantiles\": 4.898478312627372}, {\"sample_means\": 4.918034083018881, \"quantiles\": 4.900323990276978}, {\"sample_means\": 4.920649796633757, \"quantiles\": 4.902166955508328}, {\"sample_means\": 4.922082221643102, \"quantiles\": 4.904007266214362}, {\"sample_means\": 4.924655611762253, \"quantiles\": 4.905844979750718}, {\"sample_means\": 4.925448645054173, \"quantiles\": 4.907680152950043}, {\"sample_means\": 4.925579647693523, \"quantiles\": 4.909512842136012}, {\"sample_means\": 4.926233880669605, \"quantiles\": 4.911343103137077}, {\"sample_means\": 4.926956096716126, \"quantiles\": 4.913170991299937}, {\"sample_means\": 4.927819928413035, \"quantiles\": 4.914996561502753}, {\"sample_means\": 4.929609760277153, \"quantiles\": 4.916819868168111}, {\"sample_means\": 4.932669771742289, \"quantiles\": 4.918640965275739}, {\"sample_means\": 4.940114864377922, \"quantiles\": 4.9204599063749965}, {\"sample_means\": 4.94201298066114, \"quantiles\": 4.9222767445971245}, {\"sample_means\": 4.943438752987748, \"quantiles\": 4.9240915326672905}, {\"sample_means\": 4.94532474604529, \"quantiles\": 4.925904322916414}, {\"sample_means\": 4.945735028317738, \"quantiles\": 4.927715167292788}, {\"sample_means\": 4.948551851554135, \"quantiles\": 4.929524117373505}, {\"sample_means\": 4.95020878802145, \"quantiles\": 4.931331224375699}, {\"sample_means\": 4.950434862226377, \"quantiles\": 4.93313653916759}, {\"sample_means\": 4.951953929814431, \"quantiles\": 4.934940112279367}, {\"sample_means\": 4.953079943697592, \"quantiles\": 4.93674199391389}, {\"sample_means\": 4.954388005919783, \"quantiles\": 4.938542233957235}, {\"sample_means\": 4.955812146547779, \"quantiles\": 4.940340881989074}, {\"sample_means\": 4.959130018081731, \"quantiles\": 4.94213798729291}, {\"sample_means\": 4.968702913814294, \"quantiles\": 4.943933598866163}, {\"sample_means\": 4.969036923361035, \"quantiles\": 4.945727765430113}, {\"sample_means\": 4.970754813927015, \"quantiles\": 4.947520535439707}, {\"sample_means\": 4.975500492901281, \"quantiles\": 4.9493119570932445}, {\"sample_means\": 4.977780019847906, \"quantiles\": 4.951102078341928}, {\"sample_means\": 4.9783126642570235, \"quantiles\": 4.952890946899301}, {\"sample_means\": 4.978569045081299, \"quantiles\": 4.954678610250569}, {\"sample_means\": 4.979599209775117, \"quantiles\": 4.956465115661806}, {\"sample_means\": 4.981192971041863, \"quantiles\": 4.958250510189068}, {\"sample_means\": 4.9814180662691205, \"quantiles\": 4.960034840687398}, {\"sample_means\": 4.986564235260053, \"quantiles\": 4.961818153819733}, {\"sample_means\": 4.987149742995288, \"quantiles\": 4.963600496065727}, {\"sample_means\": 4.988692728175607, \"quantiles\": 4.965381913730485}, {\"sample_means\": 4.988751920557414, \"quantiles\": 4.967162452953215}, {\"sample_means\": 4.991168185829032, \"quantiles\": 4.968942159715798}, {\"sample_means\": 4.993542436719727, \"quantiles\": 4.970721079851293}, {\"sample_means\": 4.994359129053596, \"quantiles\": 4.972499259052363}, {\"sample_means\": 4.996173424192717, \"quantiles\": 4.974276742879644}, {\"sample_means\": 4.996869326837663, \"quantiles\": 4.9760535767700445}, {\"sample_means\": 4.996964509059833, \"quantiles\": 4.977829806044997}, {\"sample_means\": 4.998331017585101, \"quantiles\": 4.979605475918649}, {\"sample_means\": 5.002672003391393, \"quantiles\": 4.981380631506002}, {\"sample_means\": 5.004318596213237, \"quantiles\": 4.983155317831018}, {\"sample_means\": 5.004815262188021, \"quantiles\": 4.984929579834669}, {\"sample_means\": 5.008029918497821, \"quantiles\": 4.986703462382955}, {\"sample_means\": 5.0082404994446375, \"quantiles\": 4.988477010274893}, {\"sample_means\": 5.009475851148095, \"quantiles\": 4.990250268250462}, {\"sample_means\": 5.010781266539233, \"quantiles\": 4.992023280998534}, {\"sample_means\": 5.0141515511390695, \"quantiles\": 4.993796093164774}, {\"sample_means\": 5.01510199912785, \"quantiles\": 4.995568749359525}, {\"sample_means\": 5.0179912897430015, \"quantiles\": 4.99734129416567}, {\"sample_means\": 5.023815239230532, \"quantiles\": 4.99911377214649}, {\"sample_means\": 5.025022790133525, \"quantiles\": 5.00088622785351}, {\"sample_means\": 5.025395269935642, \"quantiles\": 5.00265870583433}, {\"sample_means\": 5.025727143970718, \"quantiles\": 5.004431250640475}, {\"sample_means\": 5.027217177702983, \"quantiles\": 5.006203906835226}, {\"sample_means\": 5.02779767570422, \"quantiles\": 5.007976719001466}, {\"sample_means\": 5.030675755901045, \"quantiles\": 5.009749731749538}, {\"sample_means\": 5.030689246187709, \"quantiles\": 5.011522989725107}, {\"sample_means\": 5.035098551795287, \"quantiles\": 5.013296537617045}, {\"sample_means\": 5.036441494125555, \"quantiles\": 5.015070420165331}, {\"sample_means\": 5.0461573511904625, \"quantiles\": 5.016844682168982}, {\"sample_means\": 5.048753404131134, \"quantiles\": 5.018619368493998}, {\"sample_means\": 5.049112619913388, \"quantiles\": 5.020394524081351}, {\"sample_means\": 5.049456421659042, \"quantiles\": 5.022170193955003}, {\"sample_means\": 5.050726835417361, \"quantiles\": 5.0239464232299555}, {\"sample_means\": 5.052751462858499, \"quantiles\": 5.025723257120356}, {\"sample_means\": 5.0566065167029475, \"quantiles\": 5.027500740947637}, {\"sample_means\": 5.060720060202404, \"quantiles\": 5.029278920148707}, {\"sample_means\": 5.061721869540657, \"quantiles\": 5.031057840284202}, {\"sample_means\": 5.063282356225921, \"quantiles\": 5.032837547046785}, {\"sample_means\": 5.063372285057547, \"quantiles\": 5.034618086269515}, {\"sample_means\": 5.065395195600569, \"quantiles\": 5.036399503934273}, {\"sample_means\": 5.066061948500471, \"quantiles\": 5.038181846180267}, {\"sample_means\": 5.069989215879576, \"quantiles\": 5.039965159312602}, {\"sample_means\": 5.071160107489187, \"quantiles\": 5.041749489810932}, {\"sample_means\": 5.071693316629167, \"quantiles\": 5.043534884338194}, {\"sample_means\": 5.072120834197038, \"quantiles\": 5.045321389749431}, {\"sample_means\": 5.0722153306799695, \"quantiles\": 5.047109053100699}, {\"sample_means\": 5.074025955373013, \"quantiles\": 5.048897921658072}, {\"sample_means\": 5.075207221930734, \"quantiles\": 5.0506880429067555}, {\"sample_means\": 5.077598346581218, \"quantiles\": 5.052479464560293}, {\"sample_means\": 5.077628150907177, \"quantiles\": 5.054272234569887}, {\"sample_means\": 5.080110524441704, \"quantiles\": 5.056066401133837}, {\"sample_means\": 5.080613007652312, \"quantiles\": 5.05786201270709}, {\"sample_means\": 5.081213879299157, \"quantiles\": 5.059659118010926}, {\"sample_means\": 5.086516428160859, \"quantiles\": 5.061457766042765}, {\"sample_means\": 5.086781866391638, \"quantiles\": 5.06325800608611}, {\"sample_means\": 5.089383530812193, \"quantiles\": 5.065059887720633}, {\"sample_means\": 5.089440855740574, \"quantiles\": 5.06686346083241}, {\"sample_means\": 5.0907479930429105, \"quantiles\": 5.068668775624301}, {\"sample_means\": 5.092211559697861, \"quantiles\": 5.070475882626495}, {\"sample_means\": 5.092310799691518, \"quantiles\": 5.072284832707212}, {\"sample_means\": 5.09337823831439, \"quantiles\": 5.074095677083586}, {\"sample_means\": 5.097302585995616, \"quantiles\": 5.0759084673327095}, {\"sample_means\": 5.0975275275558145, \"quantiles\": 5.0777232554028755}, {\"sample_means\": 5.1071031570213306, \"quantiles\": 5.0795400936250035}, {\"sample_means\": 5.108374306723803, \"quantiles\": 5.081359034724261}, {\"sample_means\": 5.109338269125982, \"quantiles\": 5.083180131831889}, {\"sample_means\": 5.112112162668916, \"quantiles\": 5.085003438497247}, {\"sample_means\": 5.113082809020373, \"quantiles\": 5.086829008700063}, {\"sample_means\": 5.122394364195542, \"quantiles\": 5.088656896862923}, {\"sample_means\": 5.123617072224115, \"quantiles\": 5.090487157863988}, {\"sample_means\": 5.126049700542368, \"quantiles\": 5.092319847049957}, {\"sample_means\": 5.1349927300614535, \"quantiles\": 5.094155020249282}, {\"sample_means\": 5.135465688037154, \"quantiles\": 5.095992733785638}, {\"sample_means\": 5.136093293689027, \"quantiles\": 5.097833044491672}, {\"sample_means\": 5.137960181709334, \"quantiles\": 5.099676009723022}, {\"sample_means\": 5.1385823924307, \"quantiles\": 5.101521687372628}, {\"sample_means\": 5.1391638406460505, \"quantiles\": 5.103370135885343}, {\"sample_means\": 5.140141567467171, \"quantiles\": 5.105221414272848}, {\"sample_means\": 5.141251792046301, \"quantiles\": 5.107075582128893}, {\"sample_means\": 5.141520273428897, \"quantiles\": 5.108932699644861}, {\"sample_means\": 5.141564076997543, \"quantiles\": 5.110792827625681}, {\"sample_means\": 5.141624509752953, \"quantiles\": 5.112656027506089}, {\"sample_means\": 5.143791395130067, \"quantiles\": 5.114522361367256}, {\"sample_means\": 5.1440367358591015, \"quantiles\": 5.116391891953798}, {\"sample_means\": 5.145537084915495, \"quantiles\": 5.118264682691172}, {\"sample_means\": 5.146145713923335, \"quantiles\": 5.120140797703479}, {\"sample_means\": 5.147516487388969, \"quantiles\": 5.122020301831691}, {\"sample_means\": 5.149330705638874, \"quantiles\": 5.123903260652299}, {\"sample_means\": 5.1495968233148, \"quantiles\": 5.125789740496426}, {\"sample_means\": 5.153572000196504, \"quantiles\": 5.127679808469387}, {\"sample_means\": 5.156574412520838, \"quantiles\": 5.129573532470744}, {\"sample_means\": 5.157239110583601, \"quantiles\": 5.131470981214848}, {\"sample_means\": 5.159174913318671, \"quantiles\": 5.133372224251902}, {\"sample_means\": 5.161539349949686, \"quantiles\": 5.135277331989548}, {\"sample_means\": 5.161880565538172, \"quantiles\": 5.137186375715017}, {\"sample_means\": 5.167466744093503, \"quantiles\": 5.13909942761784}, {\"sample_means\": 5.169109593781596, \"quantiles\": 5.141016560813151}, {\"sample_means\": 5.169880914083628, \"quantiles\": 5.142937849365611}, {\"sample_means\": 5.1705957753461345, \"quantiles\": 5.144863368313953}, {\"sample_means\": 5.171041066191722, \"quantiles\": 5.14679319369619}, {\"sample_means\": 5.177747390051381, \"quantiles\": 5.148727402575509}, {\"sample_means\": 5.178267728334399, \"quantiles\": 5.150666073066853}, {\"sample_means\": 5.178630465235012, \"quantiles\": 5.152609284364252}, {\"sample_means\": 5.1787027409991655, \"quantiles\": 5.154557116768901}, {\"sample_means\": 5.180214045743352, \"quantiles\": 5.156509651718018}, {\"sample_means\": 5.180998681534622, \"quantiles\": 5.158466971814531}, {\"sample_means\": 5.181258666500657, \"quantiles\": 5.160429160857591}, {\"sample_means\": 5.183146982486197, \"quantiles\": 5.162396303873971}, {\"sample_means\": 5.184180034919179, \"quantiles\": 5.164368487150368}, {\"sample_means\": 5.185697211982565, \"quantiles\": 5.166345798266647}, {\"sample_means\": 5.186409473381709, \"quantiles\": 5.168328326130064}, {\"sample_means\": 5.189749959226366, \"quantiles\": 5.170316161010497}, {\"sample_means\": 5.190458876305595, \"quantiles\": 5.172309394576739}, {\"sample_means\": 5.190958492078185, \"quantiles\": 5.174308119933868}, {\"sample_means\": 5.191946492989985, \"quantiles\": 5.176312431661775}, {\"sample_means\": 5.192772021084531, \"quantiles\": 5.1783224258548435}, {\"sample_means\": 5.194404666935139, \"quantiles\": 5.180338200162879}, {\"sample_means\": 5.197240118470899, \"quantiles\": 5.18235985383329}, {\"sample_means\": 5.199554601839211, \"quantiles\": 5.184387487754606}, {\"sample_means\": 5.200208822915961, \"quantiles\": 5.186421204501362}, {\"sample_means\": 5.201294304469815, \"quantiles\": 5.1884611083804195}, {\"sample_means\": 5.202392756229008, \"quantiles\": 5.190507305478766}, {\"sample_means\": 5.204441453885488, \"quantiles\": 5.192559903712871}, {\"sample_means\": 5.205427393948947, \"quantiles\": 5.1946190128796434}, {\"sample_means\": 5.206192607191727, \"quantiles\": 5.196684744709072}, {\"sample_means\": 5.206721858992726, \"quantiles\": 5.1987572129186015}, {\"sample_means\": 5.208666290304003, \"quantiles\": 5.200836533269337}, {\"sample_means\": 5.2094323729319365, \"quantiles\": 5.202922823624129}, {\"sample_means\": 5.21435658462045, \"quantiles\": 5.205016204007639}, {\"sample_means\": 5.215604787178783, \"quantiles\": 5.207116796668455}, {\"sample_means\": 5.216385909240334, \"quantiles\": 5.209224726143351}, {\"sample_means\": 5.216723292480944, \"quantiles\": 5.211340119323781}, {\"sample_means\": 5.218876478777362, \"quantiles\": 5.213463105524704}, {\"sample_means\": 5.218893211500952, \"quantiles\": 5.2155938165558355}, {\"sample_means\": 5.219323195486188, \"quantiles\": 5.217732386795447}, {\"sample_means\": 5.227274217116546, \"quantiles\": 5.219878953266803}, {\"sample_means\": 5.232347248109459, \"quantiles\": 5.222033655717371}, {\"sample_means\": 5.23607488746723, \"quantiles\": 5.224196636700928}, {\"sample_means\": 5.237585365554142, \"quantiles\": 5.2263680416626705}, {\"sample_means\": 5.238944258272686, \"quantiles\": 5.228548019027507}, {\"sample_means\": 5.240539806733117, \"quantiles\": 5.230736720291623}, {\"sample_means\": 5.242005912567741, \"quantiles\": 5.232934300117528}, {\"sample_means\": 5.24353997548074, \"quantiles\": 5.235140916432699}, {\"sample_means\": 5.246490227435527, \"quantiles\": 5.237356730532008}, {\"sample_means\": 5.251799898071518, \"quantiles\": 5.239581907184123}, {\"sample_means\": 5.254134147518289, \"quantiles\": 5.241816614742039}, {\"sample_means\": 5.2542216555832075, \"quantiles\": 5.244061025257979}, {\"sample_means\": 5.258513274719896, \"quantiles\": 5.246315314602835}, {\"sample_means\": 5.26021023679212, \"quantiles\": 5.248579662590394}, {\"sample_means\": 5.261503248640842, \"quantiles\": 5.250854253106584}, {\"sample_means\": 5.270507572492624, \"quantiles\": 5.253139274243969}, {\"sample_means\": 5.283780473829904, \"quantiles\": 5.255434918441781}, {\"sample_means\": 5.284105674806537, \"quantiles\": 5.257741382631746}, {\"sample_means\": 5.28692023032497, \"quantiles\": 5.260058868390012}, {\"sample_means\": 5.288202909301958, \"quantiles\": 5.262387582095475}, {\"sample_means\": 5.295358672153273, \"quantiles\": 5.264727735094854}, {\"sample_means\": 5.2972343081840725, \"quantiles\": 5.267079543874851}, {\"sample_means\": 5.297787504827131, \"quantiles\": 5.269443230241774}, {\"sample_means\": 5.297889158616665, \"quantiles\": 5.271819021509014}, {\"sample_means\": 5.3014311357014074, \"quantiles\": 5.274207150692801}, {\"sample_means\": 5.308245245816909, \"quantiles\": 5.276607856716688}, {\"sample_means\": 5.309424054962983, \"quantiles\": 5.279021384625223}, {\"sample_means\": 5.311454180348068, \"quantiles\": 5.281447985807341}, {\"sample_means\": 5.311544115753083, \"quantiles\": 5.2838879182299765}, {\"sample_means\": 5.312079681118676, \"quantiles\": 5.286341446682518}, {\"sample_means\": 5.3153132131120735, \"quantiles\": 5.288808843032668}, {\"sample_means\": 5.316461280760199, \"quantiles\": 5.291290386494398}, {\"sample_means\": 5.31811185896937, \"quantiles\": 5.29378636390867}, {\"sample_means\": 5.3188056721024655, \"quantiles\": 5.296297070037684}, {\"sample_means\": 5.3233442238865045, \"quantiles\": 5.298822807873438}, {\"sample_means\": 5.3250569882357475, \"quantiles\": 5.301363888961454}, {\"sample_means\": 5.330988908942784, \"quantiles\": 5.3039206337405815}, {\"sample_means\": 5.331719503673121, \"quantiles\": 5.306493371899843}, {\"sample_means\": 5.338597300181461, \"quantiles\": 5.309082442753384}, {\"sample_means\": 5.341693232298351, \"quantiles\": 5.311688195634627}, {\"sample_means\": 5.342287143409157, \"quantiles\": 5.314310990310843}, {\"sample_means\": 5.349294732985418, \"quantiles\": 5.316951197419436}, {\"sample_means\": 5.350337643204654, \"quantiles\": 5.319609198927309}, {\"sample_means\": 5.350665283584897, \"quantiles\": 5.3222853886148265}, {\"sample_means\": 5.356676021335874, \"quantiles\": 5.324980172585957}, {\"sample_means\": 5.359145544659721, \"quantiles\": 5.327693969806352}, {\"sample_means\": 5.359149204007566, \"quantiles\": 5.330427212671193}, {\"sample_means\": 5.363694434630017, \"quantiles\": 5.33318034760486}, {\"sample_means\": 5.365337456669098, \"quantiles\": 5.335953835694559}, {\"sample_means\": 5.370865786726224, \"quantiles\": 5.338748153360282}, {\"sample_means\": 5.373163700793657, \"quantiles\": 5.341563793063633}, {\"sample_means\": 5.373465818434503, \"quantiles\": 5.344401264058278}, {\"sample_means\": 5.378197018797348, \"quantiles\": 5.347261093185001}, {\"sample_means\": 5.381644114532674, \"quantiles\": 5.350143825714599}, {\"sample_means\": 5.383248517535066, \"quantiles\": 5.353050026242153}, {\"sample_means\": 5.387213878784366, \"quantiles\": 5.355980279636469}, {\"sample_means\": 5.388788026677093, \"quantiles\": 5.358935192048877}, {\"sample_means\": 5.3888307177550745, \"quantiles\": 5.361915391985907}, {\"sample_means\": 5.3900816420241675, \"quantiles\": 5.36492153145078}, {\"sample_means\": 5.390644864959111, \"quantiles\": 5.367954287159134}, {\"sample_means\": 5.39345242272351, \"quantiles\": 5.371014361834856}, {\"sample_means\": 5.394163962921857, \"quantiles\": 5.374102485592492}, {\"sample_means\": 5.40592091322407, \"quantiles\": 5.377219417413311}, {\"sample_means\": 5.413000499057977, \"quantiles\": 5.3803659467227645}, {\"sample_means\": 5.4145228759522865, \"quantiles\": 5.38354289507788}, {\"sample_means\": 5.414608234851143, \"quantiles\": 5.386751117973951}, {\"sample_means\": 5.4154310446561995, \"quantiles\": 5.389991506780851}, {\"sample_means\": 5.415619741006558, \"quantiles\": 5.39326499082034}, {\"sample_means\": 5.418304553250161, \"quantiles\": 5.3965725395969475}, {\"sample_means\": 5.422403336272677, \"quantiles\": 5.399915165196323}, {\"sample_means\": 5.423581431197956, \"quantiles\": 5.403293924866451}, {\"sample_means\": 5.429241077189087, \"quantiles\": 5.406709923798809}, {\"sample_means\": 5.4295464938711016, \"quantiles\": 5.410164318128445}, {\"sample_means\": 5.435731980328804, \"quantiles\": 5.413658318174088}, {\"sample_means\": 5.437718634712171, \"quantiles\": 5.417193191941835}, {\"sample_means\": 5.44526178868194, \"quantiles\": 5.420770268918708}, {\"sample_means\": 5.450435864335084, \"quantiles\": 5.424390944185481}, {\"sample_means\": 5.458031805863851, \"quantiles\": 5.428056682881742}, {\"sample_means\": 5.461007064371255, \"quantiles\": 5.431769025060229}, {\"sample_means\": 5.471300966529074, \"quantiles\": 5.435529590972059}, {\"sample_means\": 5.4717437732188525, \"quantiles\": 5.439340086829846}, {\"sample_means\": 5.472677748752437, \"quantiles\": 5.443202311101771}, {\"sample_means\": 5.4731648206194246, \"quantiles\": 5.447118161396703}, {\"sample_means\": 5.475328041970735, \"quantiles\": 5.451089642008585}, {\"sample_means\": 5.494002012649251, \"quantiles\": 5.455118872197725}, {\"sample_means\": 5.495623271553243, \"quantiles\": 5.459208095297508}, {\"sample_means\": 5.500162650045111, \"quantiles\": 5.463359688747764}, {\"sample_means\": 5.50056874746364, \"quantiles\": 5.467576175170895}, {\"sample_means\": 5.506637273395787, \"quantiles\": 5.471860234624201}, {\"sample_means\": 5.52003373812444, \"quantiles\": 5.4762147181823355}, {\"sample_means\": 5.521533531229011, \"quantiles\": 5.480642663027866}, {\"sample_means\": 5.528491071134292, \"quantiles\": 5.485147309256504}, {\"sample_means\": 5.531702492352463, \"quantiles\": 5.489732118637398}, {\"sample_means\": 5.540308753786965, \"quantiles\": 5.4944007956093195}, {\"sample_means\": 5.540789289555146, \"quantiles\": 5.499157310841976}, {\"sample_means\": 5.542360379396696, \"quantiles\": 5.504005927749817}, {\"sample_means\": 5.554234093072243, \"quantiles\": 5.508951232416014}, {\"sample_means\": 5.554315832717837, \"quantiles\": 5.513998167469502}, {\"sample_means\": 5.557340286584767, \"quantiles\": 5.519152070561983}, {\"sample_means\": 5.55818287778071, \"quantiles\": 5.524418718219132}, {\"sample_means\": 5.5659207446053465, \"quantiles\": 5.529804375997294}, {\"sample_means\": 5.567213496306815, \"quantiles\": 5.535315856071474}, {\"sample_means\": 5.573278733506875, \"quantiles\": 5.5409605836230025}, {\"sample_means\": 5.573820858709221, \"quantiles\": 5.546746673699616}, {\"sample_means\": 5.574444608926747, \"quantiles\": 5.552683020605155}, {\"sample_means\": 5.583157268420105, \"quantiles\": 5.558779402365258}, {\"sample_means\": 5.584928147933408, \"quantiles\": 5.565046603442623}, {\"sample_means\": 5.586390559739077, \"quantiles\": 5.571496559686004}, {\"sample_means\": 5.5922419841598865, \"quantiles\": 5.578142530554111}, {\"sample_means\": 5.592291611892742, \"quantiles\": 5.58499930504646}, {\"sample_means\": 5.592780093627903, \"quantiles\": 5.592083449622059}, {\"sample_means\": 5.6045072980119786, \"quantiles\": 5.599413608870787}, {\"sample_means\": 5.605485472564691, \"quantiles\": 5.6070108730784805}, {\"sample_means\": 5.607566314255354, \"quantiles\": 5.6148992314735064}, {\"sample_means\": 5.617587460349703, \"quantiles\": 5.623106136425749}, {\"sample_means\": 5.618754767365889, \"quantiles\": 5.6316632130494755}, {\"sample_means\": 5.659574577974829, \"quantiles\": 5.640607161874531}, {\"sample_means\": 5.671587665933366, \"quantiles\": 5.649980921609479}, {\"sample_means\": 5.677258809532813, \"quantiles\": 5.659835187949408}, {\"sample_means\": 5.681698143178465, \"quantiles\": 5.670230428567944}, {\"sample_means\": 5.6854980707232725, \"quantiles\": 5.68123960359658}, {\"sample_means\": 5.6889200055612354, \"quantiles\": 5.692951912174839}, {\"sample_means\": 5.691840493882263, \"quantiles\": 5.70547807037697}, {\"sample_means\": 5.694501375478154, \"quantiles\": 5.718957943608157}, {\"sample_means\": 5.699491910400039, \"quantiles\": 5.733571926333261}, {\"sample_means\": 5.699931052570066, \"quantiles\": 5.749558534209148}, {\"sample_means\": 5.70651067863636, \"quantiles\": 5.767242810888859}, {\"sample_means\": 5.71427120685548, \"quantiles\": 5.787084719220738}, {\"sample_means\": 5.7180866892643785, \"quantiles\": 5.809767328921651}, {\"sample_means\": 5.727804198333092, \"quantiles\": 5.83637230960178}, {\"sample_means\": 5.8088141312897115, \"quantiles\": 5.868773803187855}, {\"sample_means\": 5.863759011652946, \"quantiles\": 5.910693183859225}, {\"sample_means\": 5.973237932095792, \"quantiles\": 5.9714874254331605}, {\"sample_means\": 5.975464268396107, \"quantiles\": 6.092562109566502}], \"data-8374202b552c63c0850a1bf17419bc6a\": [{\"x\": 3.784887212198005, \"y\": 3.784887212198005}, {\"x\": 6.075464268396106, \"y\": 6.075464268396106}]}}, {\"mode\": \"vega-lite\"});\n",
       "</script>"
      ],
      "text/plain": [
       "alt.LayerChart(...)"
      ]
     },
     "execution_count": 17,
     "metadata": {},
     "output_type": "execute_result"
    }
   ],
   "source": [
    "unit_mesh = [1 - (1 / len(sample_means)) * ix - (0.5 / len(sample_means)) for ix in range(0,len(sample_means))]\n",
    "quantile_vals = [stats.norm.isf(u, loc = 5, scale = clt_scale) for u in unit_mesh]\n",
    "sample_means.sort()\n",
    "quant_df = pd.DataFrame({\n",
    "    \"sample_means\": sample_means,\n",
    "    \"quantiles\": quantile_vals})\n",
    "\n",
    "ab_lims = [min(sample_means)-0.1, max(sample_means)+0.1]\n",
    "abline_df = pd.DataFrame({\"x\": ab_lims, \"y\": ab_lims})\n",
    "\n",
    "quant_points = (alt\n",
    "                   .Chart(quant_df)\n",
    "                   .mark_point()\n",
    "                   .encode(x =  alt.X('sample_means:Q',\n",
    "                                      scale=alt.Scale(zero=False),\n",
    "                                      title = \"Sample mean quantile\"),\n",
    "                           y = alt.Y('quantiles:Q',\n",
    "                                      scale=alt.Scale(zero=False),\n",
    "                                      title = \"Normal quantile\")))\n",
    "\n",
    "ab_line = (alt\n",
    "          .Chart(abline_df)\n",
    "          .mark_line(color = \"red\")\n",
    "          .encode(x = \"x\", y = \"y\"))\n",
    "\n",
    "quant_points + ab_line"
   ]
  },
  {
   "cell_type": "markdown",
   "metadata": {},
   "source": [
    "## Experimental results: flipping coins in series\n",
    "\n",
    "Professor Mittens asked 15 of his students to each take turns flipping a coin 30 times and recording how many heads they got. He has a sneaking suspicion that some of the students did not actually do this properly, that they just wrote down some garbage and went to lunch early. We will help Mittens work out whether the coin that was used was fair, i.e. has an equal chance of showing heads or tails.\n",
    "\n",
    "### Exercise 3 part I\n",
    "\n",
    "Read the data in `experiement1.csv` into a `DataFrame`. Use some of the commands you've seen in lectures to inspect the data, noting that it may not be in the optimal format for analysis."
   ]
  },
  {
   "cell_type": "code",
   "execution_count": 18,
   "metadata": {},
   "outputs": [],
   "source": [
    "exp1 = pd.read_csv(\"experiment1.csv\")"
   ]
  },
  {
   "cell_type": "markdown",
   "metadata": {},
   "source": [
    "### Exercise 3 part II\n",
    "\n",
    "Compute the point estimate and CI using the function you wrote above. Write a sentence explaining whether you think the coin is a _fair_ coin given the results you have just obtained."
   ]
  },
  {
   "cell_type": "code",
   "execution_count": 19,
   "metadata": {},
   "outputs": [
    {
     "name": "stdout",
     "output_type": "stream",
     "text": [
      "(0.49333333333333335, (0.44713979693549655, 0.5395268697311701))\n"
     ]
    }
   ],
   "source": [
    "head_counts = exp1.drop(columns=\"flip_number\").groupby(\"name\").sum()\n",
    "head_counts[\"name\"] = head_counts.index.copy()\n",
    "\n",
    "total_heads = int(head_counts[\"outcome\"].sum())\n",
    "num_people = int(head_counts[\"name\"].unique().size)\n",
    "num_flips = int(exp1[\"name\"].value_counts().unique())\n",
    "\n",
    "est_and_ci = wald_estimate_and_ci(num_success=total_heads, \n",
    "                                  num_trials=num_people * num_flips)\n",
    "\n",
    "print(est_and_ci)"
   ]
  },
  {
   "cell_type": "markdown",
   "metadata": {},
   "source": [
    "### Partial answer\n",
    "\n",
    "We estimate the probability of heads as 0.49 with a $95\\%$ CI of (0.45,0.54). We are not able to reject the null hypothesis that the coin is fair."
   ]
  },
  {
   "cell_type": "markdown",
   "metadata": {},
   "source": [
    "### Exercise 3 part III\n",
    "\n",
    "Generate a histogram of the number of heads from each student. As an extension, include the binomial distribution supported by your estimate that is most amenable to large value outcomes."
   ]
  },
  {
   "cell_type": "code",
   "execution_count": 20,
   "metadata": {},
   "outputs": [
    {
     "data": {
      "text/html": [
       "\n",
       "<div id=\"altair-viz-8931ce0d3eff4045a826db70bbf84c51\"></div>\n",
       "<script type=\"text/javascript\">\n",
       "  (function(spec, embedOpt){\n",
       "    let outputDiv = document.currentScript.previousElementSibling;\n",
       "    if (outputDiv.id !== \"altair-viz-8931ce0d3eff4045a826db70bbf84c51\") {\n",
       "      outputDiv = document.getElementById(\"altair-viz-8931ce0d3eff4045a826db70bbf84c51\");\n",
       "    }\n",
       "    const paths = {\n",
       "      \"vega\": \"https://cdn.jsdelivr.net/npm//vega@5?noext\",\n",
       "      \"vega-lib\": \"https://cdn.jsdelivr.net/npm//vega-lib?noext\",\n",
       "      \"vega-lite\": \"https://cdn.jsdelivr.net/npm//vega-lite@4.8.1?noext\",\n",
       "      \"vega-embed\": \"https://cdn.jsdelivr.net/npm//vega-embed@6?noext\",\n",
       "    };\n",
       "\n",
       "    function loadScript(lib) {\n",
       "      return new Promise(function(resolve, reject) {\n",
       "        var s = document.createElement('script');\n",
       "        s.src = paths[lib];\n",
       "        s.async = true;\n",
       "        s.onload = () => resolve(paths[lib]);\n",
       "        s.onerror = () => reject(`Error loading script: ${paths[lib]}`);\n",
       "        document.getElementsByTagName(\"head\")[0].appendChild(s);\n",
       "      });\n",
       "    }\n",
       "\n",
       "    function showError(err) {\n",
       "      outputDiv.innerHTML = `<div class=\"error\" style=\"color:red;\">${err}</div>`;\n",
       "      throw err;\n",
       "    }\n",
       "\n",
       "    function displayChart(vegaEmbed) {\n",
       "      vegaEmbed(outputDiv, spec, embedOpt)\n",
       "        .catch(err => showError(`Javascript Error: ${err.message}<br>This usually means there's a typo in your chart specification. See the javascript console for the full traceback.`));\n",
       "    }\n",
       "\n",
       "    if(typeof define === \"function\" && define.amd) {\n",
       "      requirejs.config({paths});\n",
       "      require([\"vega-embed\"], displayChart, err => showError(`Error loading script: ${err.message}`));\n",
       "    } else if (typeof vegaEmbed === \"function\") {\n",
       "      displayChart(vegaEmbed);\n",
       "    } else {\n",
       "      loadScript(\"vega\")\n",
       "        .then(() => loadScript(\"vega-lite\"))\n",
       "        .then(() => loadScript(\"vega-embed\"))\n",
       "        .catch(showError)\n",
       "        .then(() => displayChart(vegaEmbed));\n",
       "    }\n",
       "  })({\"config\": {\"view\": {\"continuousWidth\": 400, \"continuousHeight\": 300}}, \"layer\": [{\"data\": {\"name\": \"data-3e36b5971c6b02f0d186c5079c3e0618\"}, \"mark\": \"bar\", \"encoding\": {\"x\": {\"type\": \"quantitative\", \"bin\": {\"step\": 1}, \"field\": \"outcome\", \"title\": \"Number of heads\"}, \"y\": {\"type\": \"quantitative\", \"aggregate\": \"count\", \"title\": \"Number of occurences\"}}}, {\"data\": {\"name\": \"data-4613521709c457d01da895383a998db8\"}, \"mark\": {\"type\": \"line\", \"color\": \"firebrick\"}, \"encoding\": {\"x\": {\"type\": \"quantitative\", \"field\": \"value\"}, \"y\": {\"type\": \"quantitative\", \"field\": \"prob\"}}}], \"$schema\": \"https://vega.github.io/schema/vega-lite/v4.8.1.json\", \"datasets\": {\"data-3e36b5971c6b02f0d186c5079c3e0618\": [{\"outcome\": 9, \"name\": 0}, {\"outcome\": 13, \"name\": 1}, {\"outcome\": 17, \"name\": 2}, {\"outcome\": 17, \"name\": 3}, {\"outcome\": 14, \"name\": 4}, {\"outcome\": 7, \"name\": 5}, {\"outcome\": 13, \"name\": 6}, {\"outcome\": 13, \"name\": 7}, {\"outcome\": 12, \"name\": 8}, {\"outcome\": 14, \"name\": 9}, {\"outcome\": 10, \"name\": 10}, {\"outcome\": 11, \"name\": 11}, {\"outcome\": 12, \"name\": 12}, {\"outcome\": 30, \"name\": 13}, {\"outcome\": 30, \"name\": 14}], \"data-4613521709c457d01da895383a998db8\": [{\"value\": 0, \"prob\": 1.1450546362065457e-09}, {\"value\": 1, \"prob\": 4.032583718814366e-08}, {\"value\": 2, \"prob\": 6.864158808329565e-07}, {\"value\": 3, \"prob\": 7.520730520430768e-06}, {\"value\": 4, \"prob\": 5.959361466732567e-05}, {\"value\": 5, \"prob\": 0.0003637801521431553}, {\"value\": 6, \"prob\": 0.0017793594398306492}, {\"value\": 7, \"prob\": 0.007161645447268672}, {\"value\": 8, \"prob\": 0.024170553384531807}, {\"value\": 9, \"prob\": 0.06935897927735224}, {\"value\": 10, \"prob\": 0.17098496195764695}, {\"value\": 11, \"prob\": 0.3649481401467555}, {\"value\": 12, \"prob\": 0.6783275213597293}, {\"value\": 13, \"prob\": 1.102565803949264}, {\"value\": 14, \"prob\": 1.5716698882382267}, {\"value\": 15, \"prob\": 1.9680040339678666}, {\"value\": 16, \"prob\": 2.1658740047744187}, {\"value\": 17, \"prob\": 2.093862848605462}, {\"value\": 18, \"prob\": 1.7752315455567964}, {\"value\": 19, \"prob\": 1.3161899788567573}, {\"value\": 20, \"prob\": 0.8498009211314304}, {\"value\": 21, \"prob\": 0.4750439931790591}, {\"value\": 22, \"prob\": 0.22813377538045693}, {\"value\": 23, \"prob\": 0.09315103115723748}, {\"value\": 24, \"prob\": 0.031894103059271685}, {\"value\": 25, \"prob\": 0.00898581686191657}, {\"value\": 26, \"prob\": 0.0020285706962520533}, {\"value\": 27, \"prob\": 0.00035279490369601377}, {\"value\": 28, \"prob\": 4.437327204872156e-05}, {\"value\": 29, \"prob\": 3.592438816538233e-06}, {\"value\": 30, \"prob\": 1.4057369282106098e-07}]}}, {\"mode\": \"vega-lite\"});\n",
       "</script>"
      ],
      "text/plain": [
       "alt.LayerChart(...)"
      ]
     },
     "execution_count": 20,
     "metadata": {},
     "output_type": "execute_result"
    }
   ],
   "source": [
    "fig_1_a = (alt\n",
    "           .Chart(head_counts)\n",
    "           .mark_bar()\n",
    "           .encode(alt.X(\"outcome:Q\",\n",
    "                         bin = alt.BinParams(step = 1),\n",
    "                         title = \"Number of heads\"),\n",
    "                   y = alt.Y(\"count()\",\n",
    "                            title = \"Number of occurences\")))\n",
    "\n",
    "k_vals = range(0,31)\n",
    "k_probs = [num_people * stats.binom.pmf(k = k, n = num_flips, p = 0.540) for k in k_vals]\n",
    "binom_dist_df = pd.DataFrame({\"value\": k_vals,\n",
    "                              \"prob\": k_probs})\n",
    "\n",
    "fig_1_b = (alt\n",
    "           .Chart(binom_dist_df)\n",
    "           .mark_line(color= \"firebrick\")\n",
    "           .encode(x = \"value\", \n",
    "                   y = \"prob\"))\n",
    "\n",
    "\n",
    "fig_1_a + fig_1_b"
   ]
  },
  {
   "cell_type": "markdown",
   "metadata": {},
   "source": [
    "### Exercise 4 part I\n",
    "\n",
    "It looks like there might be a couple of strange points in this dataset as Mittens suspected. Using the upper bound on $p$ calculate the probability of someone getting all heads. Write a couple of sentences explaining whether you think it is reasonable to remove those data points."
   ]
  },
  {
   "cell_type": "code",
   "execution_count": 21,
   "metadata": {},
   "outputs": [
    {
     "data": {
      "text/plain": [
       "9.371579521404065e-09"
      ]
     },
     "execution_count": 21,
     "metadata": {},
     "output_type": "execute_result"
    }
   ],
   "source": [
    "stats.binom.pmf(k = 30, n = 30, p = 0.54)"
   ]
  },
  {
   "cell_type": "markdown",
   "metadata": {},
   "source": [
    "### Partial answer\n",
    "\n",
    "- Even allowing for a high estimate of the probability of heads it seems exceedingly probable that the 30 heads are due to data input errors, hence we removed them from the data set prior to further analysis."
   ]
  },
  {
   "cell_type": "markdown",
   "metadata": {},
   "source": [
    "### Exercise 4 part II\n",
    "\n",
    "Remove the outliers and repeat the process of plotting the data and estimating the parameters and CI. Once you have done this, plot the distribution of the estimated binomial distribution on top of the histogram. Write a couple of sentences explaining what you think about the coin now."
   ]
  },
  {
   "cell_type": "code",
   "execution_count": 22,
   "metadata": {},
   "outputs": [
    {
     "data": {
      "text/plain": [
       "(0.4153846153846154, (0.3664761437453554, 0.4642930870238754))"
      ]
     },
     "execution_count": 22,
     "metadata": {},
     "output_type": "execute_result"
    }
   ],
   "source": [
    "head_counts_clean = head_counts.loc[head_counts[\"outcome\"] < 30]\n",
    "\n",
    "total_heads_clean = int(head_counts_clean[\"outcome\"].sum())\n",
    "num_people_clean = int(head_counts_clean[\"name\"].unique().size)\n",
    "\n",
    "wald_estimate_and_ci(num_success=total_heads_clean, num_trials=num_people_clean * num_flips)"
   ]
  },
  {
   "cell_type": "code",
   "execution_count": 23,
   "metadata": {},
   "outputs": [
    {
     "data": {
      "text/html": [
       "\n",
       "<div id=\"altair-viz-498ac21fa75f4c658f385deaf841bc4c\"></div>\n",
       "<script type=\"text/javascript\">\n",
       "  (function(spec, embedOpt){\n",
       "    let outputDiv = document.currentScript.previousElementSibling;\n",
       "    if (outputDiv.id !== \"altair-viz-498ac21fa75f4c658f385deaf841bc4c\") {\n",
       "      outputDiv = document.getElementById(\"altair-viz-498ac21fa75f4c658f385deaf841bc4c\");\n",
       "    }\n",
       "    const paths = {\n",
       "      \"vega\": \"https://cdn.jsdelivr.net/npm//vega@5?noext\",\n",
       "      \"vega-lib\": \"https://cdn.jsdelivr.net/npm//vega-lib?noext\",\n",
       "      \"vega-lite\": \"https://cdn.jsdelivr.net/npm//vega-lite@4.8.1?noext\",\n",
       "      \"vega-embed\": \"https://cdn.jsdelivr.net/npm//vega-embed@6?noext\",\n",
       "    };\n",
       "\n",
       "    function loadScript(lib) {\n",
       "      return new Promise(function(resolve, reject) {\n",
       "        var s = document.createElement('script');\n",
       "        s.src = paths[lib];\n",
       "        s.async = true;\n",
       "        s.onload = () => resolve(paths[lib]);\n",
       "        s.onerror = () => reject(`Error loading script: ${paths[lib]}`);\n",
       "        document.getElementsByTagName(\"head\")[0].appendChild(s);\n",
       "      });\n",
       "    }\n",
       "\n",
       "    function showError(err) {\n",
       "      outputDiv.innerHTML = `<div class=\"error\" style=\"color:red;\">${err}</div>`;\n",
       "      throw err;\n",
       "    }\n",
       "\n",
       "    function displayChart(vegaEmbed) {\n",
       "      vegaEmbed(outputDiv, spec, embedOpt)\n",
       "        .catch(err => showError(`Javascript Error: ${err.message}<br>This usually means there's a typo in your chart specification. See the javascript console for the full traceback.`));\n",
       "    }\n",
       "\n",
       "    if(typeof define === \"function\" && define.amd) {\n",
       "      requirejs.config({paths});\n",
       "      require([\"vega-embed\"], displayChart, err => showError(`Error loading script: ${err.message}`));\n",
       "    } else if (typeof vegaEmbed === \"function\") {\n",
       "      displayChart(vegaEmbed);\n",
       "    } else {\n",
       "      loadScript(\"vega\")\n",
       "        .then(() => loadScript(\"vega-lite\"))\n",
       "        .then(() => loadScript(\"vega-embed\"))\n",
       "        .catch(showError)\n",
       "        .then(() => displayChart(vegaEmbed));\n",
       "    }\n",
       "  })({\"config\": {\"view\": {\"continuousWidth\": 400, \"continuousHeight\": 300}}, \"layer\": [{\"data\": {\"name\": \"data-651c4f148c5a2518b55f662c52a2ece8\"}, \"mark\": \"bar\", \"encoding\": {\"x\": {\"type\": \"quantitative\", \"bin\": {\"step\": 1}, \"field\": \"outcome\", \"title\": \"Number of heads\"}, \"y\": {\"type\": \"quantitative\", \"aggregate\": \"count\", \"title\": \"Number of occurences\"}}}, {\"data\": {\"name\": \"data-9fc575678913ae2cd8cec04951321779\"}, \"mark\": {\"type\": \"line\", \"color\": \"firebrick\"}, \"encoding\": {\"x\": {\"type\": \"quantitative\", \"field\": \"value\"}, \"y\": {\"type\": \"quantitative\", \"field\": \"prob\"}}}], \"$schema\": \"https://vega.github.io/schema/vega-lite/v4.8.1.json\", \"datasets\": {\"data-651c4f148c5a2518b55f662c52a2ece8\": [{\"outcome\": 9, \"name\": 0}, {\"outcome\": 13, \"name\": 1}, {\"outcome\": 17, \"name\": 2}, {\"outcome\": 17, \"name\": 3}, {\"outcome\": 14, \"name\": 4}, {\"outcome\": 7, \"name\": 5}, {\"outcome\": 13, \"name\": 6}, {\"outcome\": 13, \"name\": 7}, {\"outcome\": 12, \"name\": 8}, {\"outcome\": 14, \"name\": 9}, {\"outcome\": 10, \"name\": 10}, {\"outcome\": 11, \"name\": 11}, {\"outcome\": 12, \"name\": 12}], \"data-9fc575678913ae2cd8cec04951321779\": [{\"value\": 0, \"prob\": 1.3446812053531815e-06}, {\"value\": 1, \"prob\": 2.861757437033696e-05}, {\"value\": 2, \"prob\": 0.0002943696645700855}, {\"value\": 3, \"prob\": 0.0019490458702589434}, {\"value\": 4, \"prob\": 0.00933293118643215}, {\"value\": 5, \"prob\": 0.03442814615439438}, {\"value\": 6, \"prob\": 0.10176410722274656}, {\"value\": 7, \"prob\": 0.2475141655527599}, {\"value\": 8, \"prob\": 0.5048125449147636}, {\"value\": 9, \"prob\": 0.8753919344865728}, {\"value\": 10, \"prob\": 1.3041095229146151}, {\"value\": 11, \"prob\": 1.682068226913952}, {\"value\": 12, \"prob\": 1.889331619546509}, {\"value\": 13, \"prob\": 1.8557931884303078}, {\"value\": 14, \"prob\": 1.5986106159188909}, {\"value\": 15, \"prob\": 1.2096609105072862}, {\"value\": 16, \"prob\": 0.804502047853403}, {\"value\": 17, \"prob\": 0.47000069361772845}, {\"value\": 18, \"prob\": 0.24080282450784724}, {\"value\": 19, \"prob\": 0.10789006442186948}, {\"value\": 20, \"prob\": 0.0420955678705843}, {\"value\": 21, \"prob\": 0.014220318002680022}, {\"value\": 22, \"prob\": 0.004126875504274278}, {\"value\": 23, \"prob\": 0.0010183000129461565}, {\"value\": 24, \"prob\": 0.0002106952662114393}, {\"value\": 25, \"prob\": 3.587221968317836e-05}, {\"value\": 26, \"prob\": 4.893810377553899e-06}, {\"value\": 27, \"prob\": 5.143225847888285e-07}, {\"value\": 28, \"prob\": 3.909228437497448e-08}, {\"value\": 29, \"prob\": 1.912560921381039e-09}, {\"value\": 30, \"prob\": 4.522579956542049e-11}]}}, {\"mode\": \"vega-lite\"});\n",
       "</script>"
      ],
      "text/plain": [
       "alt.LayerChart(...)"
      ]
     },
     "execution_count": 23,
     "metadata": {},
     "output_type": "execute_result"
    }
   ],
   "source": [
    "k_vals = range(0,31)\n",
    "k_probs = [num_people_clean * stats.binom.pmf(k = k, n = num_flips, p = 0.415) for k in k_vals]\n",
    "binom_dist_df = pd.DataFrame({\"value\": k_vals,\n",
    "                              \"prob\": k_probs})\n",
    "\n",
    "fig_2_a = (alt\n",
    "           .Chart(head_counts_clean)\n",
    "           .mark_bar()\n",
    "           .encode(alt.X(\"outcome:Q\",\n",
    "                         bin = alt.BinParams(step = 1),\n",
    "                         title = \"Number of heads\"),\n",
    "                   y = alt.Y(\"count()\",\n",
    "                            title = \"Number of occurences\")))\n",
    "\n",
    "fig_2_b = (alt\n",
    "           .Chart(binom_dist_df)\n",
    "           .mark_line(color= \"firebrick\")\n",
    "           .encode(x = \"value\", y = \"prob\"))\n",
    "\n",
    "fig_2_a + fig_2_b"
   ]
  },
  {
   "cell_type": "markdown",
   "metadata": {},
   "source": [
    "### Partial answer\n",
    "\n",
    "- After removing two outliers, we estimate the probability of heads as $0.42$ with a $95\\%$ CI of $(0.37, 0.46)$.\n",
    "- Given the CI does not contain the value 0.5, we can reject the null hypothesis that the coin is fair."
   ]
  },
  {
   "cell_type": "markdown",
   "metadata": {},
   "source": [
    "## Experimental results: flipping coins in parallel\n",
    "\n",
    "After the success of his first experiment, Mittens was lauded as a statistical wizard. The royal mint has become interested and is providing additional funds to obtain an additional 49 coins and repeat the experiment to gather more data about the fascinating topic of coin bias. Now he gives each of 50 students a coin each and asks them to flip the coin 30 times and record the results. We will help Mittens work out whether the coins are fair.\n",
    "\n",
    "### Excercise 5 part I\n",
    "\n",
    "Do we need to change anything about how we analyse this data? If so, why, if not, why not? **Hint:** there are good arguments that can be given for each answer. Once you have answered one way, try to answer the other way. "
   ]
  },
  {
   "cell_type": "markdown",
   "metadata": {},
   "source": [
    "### Partial answer\n",
    "\n",
    "If you assume the coins have the same probability of heads it is fine. If you assume that the coins vary then you would need to adjust the model."
   ]
  },
  {
   "cell_type": "markdown",
   "metadata": {},
   "source": [
    "### Exercise 5 part II\n",
    "\n",
    "Using the data in `experiment2.csv` explore the data set using the methodology devised above and write a couple of sentences to explain what you found."
   ]
  },
  {
   "cell_type": "code",
   "execution_count": 24,
   "metadata": {},
   "outputs": [
    {
     "name": "stdout",
     "output_type": "stream",
     "text": [
      "(0.4013333333333333, (0.37652739859779666, 0.42613926806887))\n"
     ]
    }
   ],
   "source": [
    "exp2 = pd.read_csv(\"experiment2.csv\")\n",
    "\n",
    "head_counts = exp2.drop(columns=\"flip_number\").groupby(\"name\").sum()\n",
    "head_counts[\"name\"] = head_counts.index.copy()\n",
    "\n",
    "total_heads = int(head_counts[\"outcome\"].sum())\n",
    "num_people = int(head_counts[\"name\"].unique().size)\n",
    "num_flips = int(exp2[\"name\"].value_counts().unique())\n",
    "\n",
    "wald_estimate = wald_estimate_and_ci(num_success=total_heads, \n",
    "                                     num_trials=num_people * num_flips)\n",
    "\n",
    "print(wald_estimate)"
   ]
  },
  {
   "cell_type": "markdown",
   "metadata": {},
   "source": [
    "### Exercise 5 part III\n",
    "\n",
    "Visualise the number of heads each student got and compare the variance in this to what is predicted by theory. Revise your answer to part I of this exercise."
   ]
  },
  {
   "cell_type": "code",
   "execution_count": 25,
   "metadata": {},
   "outputs": [
    {
     "name": "stdout",
     "output_type": "stream",
     "text": [
      "18.69224489795919 7.2079466666666665\n"
     ]
    },
    {
     "data": {
      "text/html": [
       "\n",
       "<div id=\"altair-viz-ce4ddcc19e0245668a644529ded3718b\"></div>\n",
       "<script type=\"text/javascript\">\n",
       "  (function(spec, embedOpt){\n",
       "    let outputDiv = document.currentScript.previousElementSibling;\n",
       "    if (outputDiv.id !== \"altair-viz-ce4ddcc19e0245668a644529ded3718b\") {\n",
       "      outputDiv = document.getElementById(\"altair-viz-ce4ddcc19e0245668a644529ded3718b\");\n",
       "    }\n",
       "    const paths = {\n",
       "      \"vega\": \"https://cdn.jsdelivr.net/npm//vega@5?noext\",\n",
       "      \"vega-lib\": \"https://cdn.jsdelivr.net/npm//vega-lib?noext\",\n",
       "      \"vega-lite\": \"https://cdn.jsdelivr.net/npm//vega-lite@4.8.1?noext\",\n",
       "      \"vega-embed\": \"https://cdn.jsdelivr.net/npm//vega-embed@6?noext\",\n",
       "    };\n",
       "\n",
       "    function loadScript(lib) {\n",
       "      return new Promise(function(resolve, reject) {\n",
       "        var s = document.createElement('script');\n",
       "        s.src = paths[lib];\n",
       "        s.async = true;\n",
       "        s.onload = () => resolve(paths[lib]);\n",
       "        s.onerror = () => reject(`Error loading script: ${paths[lib]}`);\n",
       "        document.getElementsByTagName(\"head\")[0].appendChild(s);\n",
       "      });\n",
       "    }\n",
       "\n",
       "    function showError(err) {\n",
       "      outputDiv.innerHTML = `<div class=\"error\" style=\"color:red;\">${err}</div>`;\n",
       "      throw err;\n",
       "    }\n",
       "\n",
       "    function displayChart(vegaEmbed) {\n",
       "      vegaEmbed(outputDiv, spec, embedOpt)\n",
       "        .catch(err => showError(`Javascript Error: ${err.message}<br>This usually means there's a typo in your chart specification. See the javascript console for the full traceback.`));\n",
       "    }\n",
       "\n",
       "    if(typeof define === \"function\" && define.amd) {\n",
       "      requirejs.config({paths});\n",
       "      require([\"vega-embed\"], displayChart, err => showError(`Error loading script: ${err.message}`));\n",
       "    } else if (typeof vegaEmbed === \"function\") {\n",
       "      displayChart(vegaEmbed);\n",
       "    } else {\n",
       "      loadScript(\"vega\")\n",
       "        .then(() => loadScript(\"vega-lite\"))\n",
       "        .then(() => loadScript(\"vega-embed\"))\n",
       "        .catch(showError)\n",
       "        .then(() => displayChart(vegaEmbed));\n",
       "    }\n",
       "  })({\"config\": {\"view\": {\"continuousWidth\": 400, \"continuousHeight\": 300}}, \"data\": {\"name\": \"data-6848c08f6b43d814c683ff191c0a1025\"}, \"mark\": \"point\", \"encoding\": {\"x\": {\"type\": \"quantitative\", \"field\": \"name\"}, \"y\": {\"type\": \"quantitative\", \"field\": \"outcome\"}}, \"$schema\": \"https://vega.github.io/schema/vega-lite/v4.8.1.json\", \"datasets\": {\"data-6848c08f6b43d814c683ff191c0a1025\": [{\"outcome\": 7, \"name\": 0}, {\"outcome\": 7, \"name\": 1}, {\"outcome\": 4, \"name\": 2}, {\"outcome\": 7, \"name\": 3}, {\"outcome\": 4, \"name\": 4}, {\"outcome\": 4, \"name\": 5}, {\"outcome\": 10, \"name\": 6}, {\"outcome\": 7, \"name\": 7}, {\"outcome\": 11, \"name\": 8}, {\"outcome\": 3, \"name\": 9}, {\"outcome\": 12, \"name\": 10}, {\"outcome\": 10, \"name\": 11}, {\"outcome\": 12, \"name\": 12}, {\"outcome\": 12, \"name\": 13}, {\"outcome\": 9, \"name\": 14}, {\"outcome\": 14, \"name\": 15}, {\"outcome\": 9, \"name\": 16}, {\"outcome\": 6, \"name\": 17}, {\"outcome\": 9, \"name\": 18}, {\"outcome\": 10, \"name\": 19}, {\"outcome\": 13, \"name\": 20}, {\"outcome\": 15, \"name\": 21}, {\"outcome\": 10, \"name\": 22}, {\"outcome\": 15, \"name\": 23}, {\"outcome\": 12, \"name\": 24}, {\"outcome\": 13, \"name\": 25}, {\"outcome\": 15, \"name\": 26}, {\"outcome\": 15, \"name\": 27}, {\"outcome\": 8, \"name\": 28}, {\"outcome\": 9, \"name\": 29}, {\"outcome\": 13, \"name\": 30}, {\"outcome\": 11, \"name\": 31}, {\"outcome\": 13, \"name\": 32}, {\"outcome\": 13, \"name\": 33}, {\"outcome\": 19, \"name\": 34}, {\"outcome\": 16, \"name\": 35}, {\"outcome\": 20, \"name\": 36}, {\"outcome\": 16, \"name\": 37}, {\"outcome\": 17, \"name\": 38}, {\"outcome\": 11, \"name\": 39}, {\"outcome\": 17, \"name\": 40}, {\"outcome\": 11, \"name\": 41}, {\"outcome\": 16, \"name\": 42}, {\"outcome\": 15, \"name\": 43}, {\"outcome\": 15, \"name\": 44}, {\"outcome\": 18, \"name\": 45}, {\"outcome\": 15, \"name\": 46}, {\"outcome\": 16, \"name\": 47}, {\"outcome\": 18, \"name\": 48}, {\"outcome\": 20, \"name\": 49}]}}, {\"mode\": \"vega-lite\"});\n",
       "</script>"
      ],
      "text/plain": [
       "alt.Chart(...)"
      ]
     },
     "execution_count": 25,
     "metadata": {},
     "output_type": "execute_result"
    }
   ],
   "source": [
    "emp_var = head_counts[\"outcome\"].var()\n",
    "thry_var = stats.binom.var(n = num_flips, p = wald_estimate[0])\n",
    "\n",
    "print(emp_var,thry_var)\n",
    "\n",
    "alt.Chart(head_counts).mark_point().encode(\n",
    "    x = \"name\",\n",
    "    y = \"outcome\"\n",
    ")"
   ]
  },
  {
   "cell_type": "markdown",
   "metadata": {},
   "source": [
    "### Partial answer\n",
    "\n",
    "- There appears to be systematic differences in the number of heads obtained.\n",
    "- The variance is too great.\n",
    "- It seems that we should not consider all the coins as identical.\n",
    "\n"
   ]
  },
  {
   "cell_type": "markdown",
   "metadata": {},
   "source": [
    "### Exercise 5 part IV (Extension)\n",
    "\n",
    "Consider how you might analyse this data. Over the following weeks you will learn a couple of approaches."
   ]
  },
  {
   "cell_type": "markdown",
   "metadata": {},
   "source": [
    "### Partial answer\n",
    "\n",
    "One could use a negative binomial distribution if one were interested in an empirical analysis or a hierarchical model if one were interested in a structural analysis."
   ]
  },
  {
   "cell_type": "markdown",
   "metadata": {},
   "source": [
    "## Epilogue\n",
    "\n",
    "Professor Mittens' work was published in a top tier journal and he was lauded as a statistical wizard. Rumour has it he will soon be elected to the British Acadmey."
   ]
  }
 ],
 "metadata": {
  "kernelspec": {
   "display_name": "Python 3",
   "language": "python",
   "name": "python3"
  },
  "language_info": {
   "codemirror_mode": {
    "name": "ipython",
    "version": 3
   },
   "file_extension": ".py",
   "mimetype": "text/x-python",
   "name": "python",
   "nbconvert_exporter": "python",
   "pygments_lexer": "ipython3",
   "version": "3.7.9"
  }
 },
 "nbformat": 4,
 "nbformat_minor": 4
}
